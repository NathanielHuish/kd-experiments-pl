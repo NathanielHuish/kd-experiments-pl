{
 "cells": [
  {
   "cell_type": "code",
   "execution_count": 1,
   "source": [
    "from src.dataset import CIFAR10DataModule\n",
    "from src.models import ModelFactory\n",
    "from pytorch_lightning.callbacks import ModelPruning\n",
    "from src.training_module import TrainingModule\n",
    "from pytorch_lightning.callbacks import Callback\n",
    "import pytorch_lightning as pl\n",
    "from src.prune_scheduler import AgpPruningRate\n",
    "import torchmetrics\n",
    "from torch import nn\n",
    "import torch.nn.utils.prune as prune\n",
    "import torch\n",
    "from typing import Callable\n",
    "from pytorch_lightning.loggers.base import LightningLoggerBase\n",
    "import csv"
   ],
   "outputs": [],
   "metadata": {}
  },
  {
   "cell_type": "code",
   "execution_count": 2,
   "source": [
    "class SparsityLogger(LightningLoggerBase):\n",
    "    def __init__(self, file_path, header=['epoch', 'layer', 'sparsity']):\n",
    "        super().__init__\n",
    "        self.file_path = file_path\n",
    "\n",
    "        with open(self.file_path, 'w') as f:\n",
    "          writer = csv.writer(f)\n",
    "          writer.writerow(header)\n",
    "    \n",
    "    def log(self, metrics):\n",
    "        fields = [metrics[\"epoch\"], metrics[\"layer\"], metrics[\"sparsity\"]]\n",
    "        filename = self.file_path\n",
    "        with open(filename, 'a') as f:\n",
    "            writer = csv.writer(f)\n",
    "            writer.writerow(fields)\n",
    "    def experiment(self):\n",
    "        pass\n",
    "    def log_hyperparams(self, params, *args, **kwargs):\n",
    "        pass\n",
    "    def log_metrics(self, metrics, step):\n",
    "        pass\n",
    "    def name(self) -> str:\n",
    "        pass\n",
    "    def version(self):\n",
    "        pass"
   ],
   "outputs": [],
   "metadata": {}
  },
  {
   "cell_type": "code",
   "execution_count": 3,
   "source": [
    "og_logger = SparsityLogger('og_logger_test.csv')"
   ],
   "outputs": [],
   "metadata": {}
  },
  {
   "cell_type": "code",
   "execution_count": 4,
   "source": [
    "class PruningTrainingModule(TrainingModule):\n",
    "    def __init__(\n",
    "        self, \n",
    "        model_name, \n",
    "        image_size, \n",
    "        num_classes, \n",
    "        lr, \n",
    "        momentum, \n",
    "        epochs,\n",
    "        weight_decay,\n",
    "        mixup,\n",
    "        logger,\n",
    "        pre_trained=False,\n",
    "    ):\n",
    "        super(TrainingModule, self).__init__()\n",
    "        self.lr = lr\n",
    "        self.image_size = image_size\n",
    "        self.num_classes = num_classes\n",
    "        self.weight_decay = weight_decay\n",
    "        self.momentum = momentum\n",
    "        self.epochs = epochs\n",
    "        self.mixup = mixup\n",
    "        self._model = self.create_model(model_name=model_name, pre_trained=pre_trained)\n",
    "        self._loss = nn.CrossEntropyLoss()\n",
    "        acc = torchmetrics.Accuracy()\n",
    "        self.val_acc = acc.clone()\n",
    "        self.train_acc = acc.clone()\n",
    "\n",
    "        self.freq = 2\n",
    "        self.prune_end = int(120 * 0.75)\n",
    "        self.prune_sch = AgpPruningRate(.05, .50, 1, self.prune_end, self.freq)\n",
    "        self.prune_layers = [module for module in self._model.modules()][:-1]\n",
    "        self._logger = logger\n",
    "\n",
    "    def on_train_epoch_start(self) -> None:\n",
    "        log_dict = {\n",
    "            'epoch': self.current_epoch,\n",
    "            'layer': 'start',\n",
    "            'sparsity': self.freq\n",
    "        }\n",
    "        self._logger.log(log_dict)\n",
    "        if self.current_epoch % self.freq == 1 and self.current_epoch <= self.prune_end:\n",
    "            target = self.prune_sch.step(self.current_epoch)\n",
    "            print(target)\n",
    "            print(f'pruning {target * 100}% sparsity')\n",
    "            log_dict = {\n",
    "                'epoch': 'target',\n",
    "                'layer': '0',\n",
    "                'sparsity': target\n",
    "            }\n",
    "            self._logger.log(log_dict)\n",
    "            if self.current_epoch > 1 and self.current_epoch < self.prune_end:\n",
    "                for i, layer in enumerate(self.prune_layers):\n",
    "                    if type(layer) == nn.Conv2d or type(layer) == nn.Linear:\n",
    "                        prune.remove(layer, \"weight\")\n",
    "            for i, layer in enumerate(self.prune_layers):\n",
    "                if type(layer) == nn.Conv2d or type(layer) == nn.Linear:\n",
    "                    prune.l1_unstructured(layer, name='weight', amount=float(target))\n",
    "                    layer_spar = float(torch.sum(layer.weight == 0))\n",
    "                    layer_spar /= float(layer.weight.nelement())\n",
    "                    log_dict = {\n",
    "                        'epoch': self.current_epoch,\n",
    "                        'layer': layer,\n",
    "                        'sparsity': layer_spar\n",
    "                    }\n",
    "                    self._logger.log(log_dict)\n",
    "                    print(f\"Sparsity in layer {i} {type(layer)} {layer_spar: 3f}\")\n",
    "        elif self.current_epoch > self.prune_end:\n",
    "            print(\"All done pruning\")\n",
    "\n",
    "    def OG_Pruning_Scheduler(self) -> Callable:\n",
    "        if self.current_epoch % self.freq == 1 and self.current_epoch <= self.prune_end:\n",
    "            target = self.prune_sch.step(self.current_epoch)\n",
    "            return target\n",
    "\n"
   ],
   "outputs": [],
   "metadata": {}
  },
  {
   "cell_type": "code",
   "execution_count": null,
   "source": [
    "class OG_Pruning_Callback(Callback):    \n",
    "    def on_train_epoch_start(self, trainer: \"pl.Trainer\", pl_module: \"pl.LightningModule\") -> None:\n",
    "        if trainer.current_epoch % pl_module.freq == 1 and trainer.current_epoch <= pl_module.prune_end:\n",
    "            target = pl_module.prune_sch.step(trainer.current_epoch)\n",
    "            print(target)\n",
    "            print(f'pruning {target * 100}% sparsity')\n",
    "            if trainer.current_epoch > 1 and trainer.current_epoch < pl_module.prune_end:\n",
    "                for i, layer in enumerate(pl_module.prune_layers):\n",
    "                    if type(layer) == nn.Conv2d or type(layer) == nn.Linear:\n",
    "                        prune.remove(layer, \"weight\")\n",
    "            for i, layer in enumerate(pl_module.prune_layers):\n",
    "                if type(layer) == nn.Conv2d or type(layer) == nn.Linear:\n",
    "                    prune.l1_unstructured(layer, name='weight', amount=float(target))\n",
    "                    layer_spar = float(torch.sum(layer.weight == 0))\n",
    "                    layer_spar /= float(layer.weight.nelement())\n",
    "                    print(f\"Sparsity in layer {i} {type(layer)} {layer_spar: 3f}\")\n",
    "        elif trainer.current_epoch > pl_module.prune_end:\n",
    "            print(\"All done pruning\")\n",
    "    \n",
    "    def on_train_end(self, trainer: \"pl.Trainer\", pl_module: \"pl.LightningModule\") -> None:\n",
    "        torch.save(trainer.model.state_dict(), 'og_pruning_weights.pth')"
   ],
   "outputs": [],
   "metadata": {}
  },
  {
   "cell_type": "code",
   "execution_count": 5,
   "source": [
    "training_module = PruningTrainingModule(\n",
    "    model_name='resnet34',\n",
    "    image_size=1,\n",
    "    num_classes=10,\n",
    "    pre_trained=False,\n",
    "    lr=0.01,\n",
    "    epochs=20,\n",
    "    mixup=False,\n",
    "    momentum=0.005,\n",
    "    logger=og_logger,\n",
    "    weight_decay=1e-5\n",
    "        )"
   ],
   "outputs": [],
   "metadata": {}
  },
  {
   "cell_type": "code",
   "execution_count": 6,
   "source": [
    "dm = CIFAR10DataModule(data_dir='data/', num_workers=128, pin_memory=True)"
   ],
   "outputs": [],
   "metadata": {}
  },
  {
   "cell_type": "code",
   "execution_count": 7,
   "source": [
    "og_trainer = pl.Trainer(gpus=1, max_epochs=20)\n",
    "\n",
    "og_trainer.fit(training_module, dm)"
   ],
   "outputs": [
    {
     "output_type": "stream",
     "name": "stderr",
     "text": [
      "GPU available: True, used: True\n",
      "TPU available: False, using: 0 TPU cores\n",
      "IPU available: False, using: 0 IPUs\n"
     ]
    },
    {
     "output_type": "stream",
     "name": "stdout",
     "text": [
      "Files already downloaded and verified\n",
      "Files already downloaded and verified\n"
     ]
    },
    {
     "output_type": "stream",
     "name": "stderr",
     "text": [
      "LOCAL_RANK: 0 - CUDA_VISIBLE_DEVICES: [0]\n",
      "\n",
      "  | Name      | Type             | Params\n",
      "-----------------------------------------------\n",
      "0 | _model    | ResNet           | 21.3 M\n",
      "1 | _loss     | CrossEntropyLoss | 0     \n",
      "2 | val_acc   | Accuracy         | 0     \n",
      "3 | train_acc | Accuracy         | 0     \n",
      "-----------------------------------------------\n",
      "21.3 M    Trainable params\n",
      "0         Non-trainable params\n",
      "21.3 M    Total params\n",
      "85.128    Total estimated model params size (MB)\n"
     ]
    },
    {
     "output_type": "display_data",
     "data": {
      "application/vnd.jupyter.widget-view+json": {
       "version_major": 2,
       "version_minor": 0,
       "model_id": "1be3a41385bb4784a29e84a4fd7c40af"
      },
      "text/plain": [
       "Validation sanity check: 0it [00:00, ?it/s]"
      ]
     },
     "metadata": {}
    },
    {
     "output_type": "stream",
     "name": "stderr",
     "text": [
      "/home/nathaniel/anaconda3/envs/kd-experiments-pl/lib/python3.9/site-packages/torch/utils/data/dataloader.py:478: UserWarning: This DataLoader will create 128 worker processes in total. Our suggested max number of worker in current system is 8, which is smaller than what this DataLoader is going to create. Please be aware that excessive worker creation might get DataLoader running slow or even freeze, lower the worker number to avoid potential slowness/freeze if necessary.\n",
      "  warnings.warn(_create_warning_msg(\n"
     ]
    },
    {
     "output_type": "display_data",
     "data": {
      "application/vnd.jupyter.widget-view+json": {
       "version_major": 2,
       "version_minor": 0,
       "model_id": "03e520248d9b45419b1a91405ca2ce42"
      },
      "text/plain": [
       "Training: -1it [00:00, ?it/s]"
      ]
     },
     "metadata": {}
    },
    {
     "output_type": "display_data",
     "data": {
      "application/vnd.jupyter.widget-view+json": {
       "version_major": 2,
       "version_minor": 0,
       "model_id": "8dd9da64fd29431a85f53db8d9eda91f"
      },
      "text/plain": [
       "Validating: 0it [00:00, ?it/s]"
      ]
     },
     "metadata": {}
    },
    {
     "output_type": "stream",
     "name": "stdout",
     "text": [
      "0.04999999999999999\n",
      "pruning 4.999999999999999% sparsity\n",
      "Sparsity in layer 1 <class 'torch.nn.modules.conv.Conv2d'>  0.049769\n",
      "Sparsity in layer 7 <class 'torch.nn.modules.conv.Conv2d'>  0.049995\n",
      "Sparsity in layer 10 <class 'torch.nn.modules.conv.Conv2d'>  0.049995\n",
      "Sparsity in layer 13 <class 'torch.nn.modules.conv.Conv2d'>  0.049995\n",
      "Sparsity in layer 16 <class 'torch.nn.modules.conv.Conv2d'>  0.049995\n",
      "Sparsity in layer 19 <class 'torch.nn.modules.conv.Conv2d'>  0.049995\n",
      "Sparsity in layer 22 <class 'torch.nn.modules.conv.Conv2d'>  0.049995\n",
      "Sparsity in layer 26 <class 'torch.nn.modules.conv.Conv2d'>  0.049995\n",
      "Sparsity in layer 29 <class 'torch.nn.modules.conv.Conv2d'>  0.050001\n",
      "Sparsity in layer 32 <class 'torch.nn.modules.conv.Conv2d'>  0.050049\n",
      "Sparsity in layer 35 <class 'torch.nn.modules.conv.Conv2d'>  0.050001\n",
      "Sparsity in layer 38 <class 'torch.nn.modules.conv.Conv2d'>  0.050001\n",
      "Sparsity in layer 41 <class 'torch.nn.modules.conv.Conv2d'>  0.050001\n",
      "Sparsity in layer 44 <class 'torch.nn.modules.conv.Conv2d'>  0.050001\n",
      "Sparsity in layer 47 <class 'torch.nn.modules.conv.Conv2d'>  0.050001\n",
      "Sparsity in layer 50 <class 'torch.nn.modules.conv.Conv2d'>  0.050001\n",
      "Sparsity in layer 54 <class 'torch.nn.modules.conv.Conv2d'>  0.050001\n",
      "Sparsity in layer 57 <class 'torch.nn.modules.conv.Conv2d'>  0.050000\n",
      "Sparsity in layer 60 <class 'torch.nn.modules.conv.Conv2d'>  0.049988\n",
      "Sparsity in layer 63 <class 'torch.nn.modules.conv.Conv2d'>  0.050000\n",
      "Sparsity in layer 66 <class 'torch.nn.modules.conv.Conv2d'>  0.050000\n",
      "Sparsity in layer 69 <class 'torch.nn.modules.conv.Conv2d'>  0.050000\n",
      "Sparsity in layer 72 <class 'torch.nn.modules.conv.Conv2d'>  0.050000\n",
      "Sparsity in layer 75 <class 'torch.nn.modules.conv.Conv2d'>  0.050000\n",
      "Sparsity in layer 78 <class 'torch.nn.modules.conv.Conv2d'>  0.050000\n",
      "Sparsity in layer 81 <class 'torch.nn.modules.conv.Conv2d'>  0.050000\n",
      "Sparsity in layer 84 <class 'torch.nn.modules.conv.Conv2d'>  0.050000\n",
      "Sparsity in layer 87 <class 'torch.nn.modules.conv.Conv2d'>  0.050000\n",
      "Sparsity in layer 90 <class 'torch.nn.modules.conv.Conv2d'>  0.050000\n",
      "Sparsity in layer 94 <class 'torch.nn.modules.conv.Conv2d'>  0.050000\n",
      "Sparsity in layer 97 <class 'torch.nn.modules.conv.Conv2d'>  0.050000\n",
      "Sparsity in layer 100 <class 'torch.nn.modules.conv.Conv2d'>  0.050003\n",
      "Sparsity in layer 103 <class 'torch.nn.modules.conv.Conv2d'>  0.050000\n",
      "Sparsity in layer 106 <class 'torch.nn.modules.conv.Conv2d'>  0.050000\n",
      "Sparsity in layer 109 <class 'torch.nn.modules.conv.Conv2d'>  0.050000\n",
      "Sparsity in layer 112 <class 'torch.nn.modules.conv.Conv2d'>  0.050000\n"
     ]
    },
    {
     "output_type": "display_data",
     "data": {
      "application/vnd.jupyter.widget-view+json": {
       "version_major": 2,
       "version_minor": 0,
       "model_id": "9f96f24816454398b7bf0915adfc3cd9"
      },
      "text/plain": [
       "Validating: 0it [00:00, ?it/s]"
      ]
     },
     "metadata": {}
    },
    {
     "output_type": "display_data",
     "data": {
      "application/vnd.jupyter.widget-view+json": {
       "version_major": 2,
       "version_minor": 0,
       "model_id": "aed866f7f251436ea1b7dc93a95e2192"
      },
      "text/plain": [
       "Validating: 0it [00:00, ?it/s]"
      ]
     },
     "metadata": {}
    },
    {
     "output_type": "stream",
     "name": "stdout",
     "text": [
      "0.0799897868144252\n",
      "pruning 7.99897868144252% sparsity\n",
      "Sparsity in layer 1 <class 'torch.nn.modules.conv.Conv2d'>  0.079861\n",
      "Sparsity in layer 7 <class 'torch.nn.modules.conv.Conv2d'>  0.079997\n",
      "Sparsity in layer 10 <class 'torch.nn.modules.conv.Conv2d'>  0.079997\n",
      "Sparsity in layer 13 <class 'torch.nn.modules.conv.Conv2d'>  0.079997\n",
      "Sparsity in layer 16 <class 'torch.nn.modules.conv.Conv2d'>  0.079997\n",
      "Sparsity in layer 19 <class 'torch.nn.modules.conv.Conv2d'>  0.079997\n",
      "Sparsity in layer 22 <class 'torch.nn.modules.conv.Conv2d'>  0.079997\n",
      "Sparsity in layer 26 <class 'torch.nn.modules.conv.Conv2d'>  0.079983\n",
      "Sparsity in layer 29 <class 'torch.nn.modules.conv.Conv2d'>  0.079990\n",
      "Sparsity in layer 32 <class 'torch.nn.modules.conv.Conv2d'>  0.079956\n",
      "Sparsity in layer 35 <class 'torch.nn.modules.conv.Conv2d'>  0.079990\n",
      "Sparsity in layer 38 <class 'torch.nn.modules.conv.Conv2d'>  0.079990\n",
      "Sparsity in layer 41 <class 'torch.nn.modules.conv.Conv2d'>  0.079990\n",
      "Sparsity in layer 44 <class 'torch.nn.modules.conv.Conv2d'>  0.079990\n",
      "Sparsity in layer 47 <class 'torch.nn.modules.conv.Conv2d'>  0.079990\n",
      "Sparsity in layer 50 <class 'torch.nn.modules.conv.Conv2d'>  0.079990\n",
      "Sparsity in layer 54 <class 'torch.nn.modules.conv.Conv2d'>  0.079990\n",
      "Sparsity in layer 57 <class 'torch.nn.modules.conv.Conv2d'>  0.079990\n",
      "Sparsity in layer 60 <class 'torch.nn.modules.conv.Conv2d'>  0.079987\n",
      "Sparsity in layer 63 <class 'torch.nn.modules.conv.Conv2d'>  0.079990\n",
      "Sparsity in layer 66 <class 'torch.nn.modules.conv.Conv2d'>  0.079990\n",
      "Sparsity in layer 69 <class 'torch.nn.modules.conv.Conv2d'>  0.079990\n",
      "Sparsity in layer 72 <class 'torch.nn.modules.conv.Conv2d'>  0.079990\n",
      "Sparsity in layer 75 <class 'torch.nn.modules.conv.Conv2d'>  0.079990\n",
      "Sparsity in layer 78 <class 'torch.nn.modules.conv.Conv2d'>  0.079990\n",
      "Sparsity in layer 81 <class 'torch.nn.modules.conv.Conv2d'>  0.079990\n",
      "Sparsity in layer 84 <class 'torch.nn.modules.conv.Conv2d'>  0.079990\n",
      "Sparsity in layer 87 <class 'torch.nn.modules.conv.Conv2d'>  0.079990\n",
      "Sparsity in layer 90 <class 'torch.nn.modules.conv.Conv2d'>  0.079990\n",
      "Sparsity in layer 94 <class 'torch.nn.modules.conv.Conv2d'>  0.079990\n",
      "Sparsity in layer 97 <class 'torch.nn.modules.conv.Conv2d'>  0.079990\n",
      "Sparsity in layer 100 <class 'torch.nn.modules.conv.Conv2d'>  0.079987\n",
      "Sparsity in layer 103 <class 'torch.nn.modules.conv.Conv2d'>  0.079990\n",
      "Sparsity in layer 106 <class 'torch.nn.modules.conv.Conv2d'>  0.079990\n",
      "Sparsity in layer 109 <class 'torch.nn.modules.conv.Conv2d'>  0.079990\n",
      "Sparsity in layer 112 <class 'torch.nn.modules.conv.Conv2d'>  0.079990\n"
     ]
    },
    {
     "output_type": "display_data",
     "data": {
      "application/vnd.jupyter.widget-view+json": {
       "version_major": 2,
       "version_minor": 0,
       "model_id": "49c531d9a75446afbf91a07ffc2d6291"
      },
      "text/plain": [
       "Validating: 0it [00:00, ?it/s]"
      ]
     },
     "metadata": {}
    },
    {
     "output_type": "display_data",
     "data": {
      "application/vnd.jupyter.widget-view+json": {
       "version_major": 2,
       "version_minor": 0,
       "model_id": "78428bee406a40acbf088e0a8041dbb3"
      },
      "text/plain": [
       "Validating: 0it [00:00, ?it/s]"
      ]
     },
     "metadata": {}
    },
    {
     "output_type": "stream",
     "name": "stdout",
     "text": [
      "0.1086166416228399\n",
      "pruning 10.86166416228399% sparsity\n",
      "Sparsity in layer 1 <class 'torch.nn.modules.conv.Conv2d'>  0.108796\n",
      "Sparsity in layer 7 <class 'torch.nn.modules.conv.Conv2d'>  0.108615\n",
      "Sparsity in layer 10 <class 'torch.nn.modules.conv.Conv2d'>  0.108615\n",
      "Sparsity in layer 13 <class 'torch.nn.modules.conv.Conv2d'>  0.108615\n",
      "Sparsity in layer 16 <class 'torch.nn.modules.conv.Conv2d'>  0.108615\n",
      "Sparsity in layer 19 <class 'torch.nn.modules.conv.Conv2d'>  0.108615\n",
      "Sparsity in layer 22 <class 'torch.nn.modules.conv.Conv2d'>  0.108615\n",
      "Sparsity in layer 26 <class 'torch.nn.modules.conv.Conv2d'>  0.108615\n",
      "Sparsity in layer 29 <class 'torch.nn.modules.conv.Conv2d'>  0.108615\n",
      "Sparsity in layer 32 <class 'torch.nn.modules.conv.Conv2d'>  0.108643\n",
      "Sparsity in layer 35 <class 'torch.nn.modules.conv.Conv2d'>  0.108615\n",
      "Sparsity in layer 38 <class 'torch.nn.modules.conv.Conv2d'>  0.108615\n",
      "Sparsity in layer 41 <class 'torch.nn.modules.conv.Conv2d'>  0.108615\n",
      "Sparsity in layer 44 <class 'torch.nn.modules.conv.Conv2d'>  0.108615\n",
      "Sparsity in layer 47 <class 'torch.nn.modules.conv.Conv2d'>  0.108615\n",
      "Sparsity in layer 50 <class 'torch.nn.modules.conv.Conv2d'>  0.108615\n",
      "Sparsity in layer 54 <class 'torch.nn.modules.conv.Conv2d'>  0.108615\n",
      "Sparsity in layer 57 <class 'torch.nn.modules.conv.Conv2d'>  0.108617\n",
      "Sparsity in layer 60 <class 'torch.nn.modules.conv.Conv2d'>  0.108612\n",
      "Sparsity in layer 63 <class 'torch.nn.modules.conv.Conv2d'>  0.108617\n",
      "Sparsity in layer 66 <class 'torch.nn.modules.conv.Conv2d'>  0.108617\n",
      "Sparsity in layer 69 <class 'torch.nn.modules.conv.Conv2d'>  0.108617\n",
      "Sparsity in layer 72 <class 'torch.nn.modules.conv.Conv2d'>  0.108617\n",
      "Sparsity in layer 75 <class 'torch.nn.modules.conv.Conv2d'>  0.108617\n",
      "Sparsity in layer 78 <class 'torch.nn.modules.conv.Conv2d'>  0.108617\n",
      "Sparsity in layer 81 <class 'torch.nn.modules.conv.Conv2d'>  0.108617\n",
      "Sparsity in layer 84 <class 'torch.nn.modules.conv.Conv2d'>  0.108617\n",
      "Sparsity in layer 87 <class 'torch.nn.modules.conv.Conv2d'>  0.108617\n",
      "Sparsity in layer 90 <class 'torch.nn.modules.conv.Conv2d'>  0.108617\n",
      "Sparsity in layer 94 <class 'torch.nn.modules.conv.Conv2d'>  0.108616\n",
      "Sparsity in layer 97 <class 'torch.nn.modules.conv.Conv2d'>  0.108617\n",
      "Sparsity in layer 100 <class 'torch.nn.modules.conv.Conv2d'>  0.108620\n",
      "Sparsity in layer 103 <class 'torch.nn.modules.conv.Conv2d'>  0.108617\n",
      "Sparsity in layer 106 <class 'torch.nn.modules.conv.Conv2d'>  0.108617\n",
      "Sparsity in layer 109 <class 'torch.nn.modules.conv.Conv2d'>  0.108617\n",
      "Sparsity in layer 112 <class 'torch.nn.modules.conv.Conv2d'>  0.108617\n"
     ]
    },
    {
     "output_type": "display_data",
     "data": {
      "application/vnd.jupyter.widget-view+json": {
       "version_major": 2,
       "version_minor": 0,
       "model_id": "d242080eab384e08ae213c93bfae6664"
      },
      "text/plain": [
       "Validating: 0it [00:00, ?it/s]"
      ]
     },
     "metadata": {}
    },
    {
     "output_type": "display_data",
     "data": {
      "application/vnd.jupyter.widget-view+json": {
       "version_major": 2,
       "version_minor": 0,
       "model_id": "12cee8a5bfa849f2a170da151de637a9"
      },
      "text/plain": [
       "Validating: 0it [00:00, ?it/s]"
      ]
     },
     "metadata": {}
    },
    {
     "output_type": "stream",
     "name": "stdout",
     "text": [
      "0.1359122605184071\n",
      "pruning 13.59122605184071% sparsity\n",
      "Sparsity in layer 1 <class 'torch.nn.modules.conv.Conv2d'>  0.135995\n",
      "Sparsity in layer 7 <class 'torch.nn.modules.conv.Conv2d'>  0.135905\n",
      "Sparsity in layer 10 <class 'torch.nn.modules.conv.Conv2d'>  0.135905\n",
      "Sparsity in layer 13 <class 'torch.nn.modules.conv.Conv2d'>  0.135905\n",
      "Sparsity in layer 16 <class 'torch.nn.modules.conv.Conv2d'>  0.135905\n",
      "Sparsity in layer 19 <class 'torch.nn.modules.conv.Conv2d'>  0.135905\n",
      "Sparsity in layer 22 <class 'torch.nn.modules.conv.Conv2d'>  0.135905\n",
      "Sparsity in layer 26 <class 'torch.nn.modules.conv.Conv2d'>  0.135919\n",
      "Sparsity in layer 29 <class 'torch.nn.modules.conv.Conv2d'>  0.135912\n",
      "Sparsity in layer 32 <class 'torch.nn.modules.conv.Conv2d'>  0.135864\n",
      "Sparsity in layer 35 <class 'torch.nn.modules.conv.Conv2d'>  0.135912\n",
      "Sparsity in layer 38 <class 'torch.nn.modules.conv.Conv2d'>  0.135912\n",
      "Sparsity in layer 41 <class 'torch.nn.modules.conv.Conv2d'>  0.135912\n",
      "Sparsity in layer 44 <class 'torch.nn.modules.conv.Conv2d'>  0.135912\n",
      "Sparsity in layer 47 <class 'torch.nn.modules.conv.Conv2d'>  0.135912\n",
      "Sparsity in layer 50 <class 'torch.nn.modules.conv.Conv2d'>  0.135912\n",
      "Sparsity in layer 54 <class 'torch.nn.modules.conv.Conv2d'>  0.135912\n",
      "Sparsity in layer 57 <class 'torch.nn.modules.conv.Conv2d'>  0.135912\n",
      "Sparsity in layer 60 <class 'torch.nn.modules.conv.Conv2d'>  0.135925\n",
      "Sparsity in layer 63 <class 'torch.nn.modules.conv.Conv2d'>  0.135912\n",
      "Sparsity in layer 66 <class 'torch.nn.modules.conv.Conv2d'>  0.135912\n",
      "Sparsity in layer 69 <class 'torch.nn.modules.conv.Conv2d'>  0.135912\n",
      "Sparsity in layer 72 <class 'torch.nn.modules.conv.Conv2d'>  0.135912\n",
      "Sparsity in layer 75 <class 'torch.nn.modules.conv.Conv2d'>  0.135912\n",
      "Sparsity in layer 78 <class 'torch.nn.modules.conv.Conv2d'>  0.135912\n",
      "Sparsity in layer 81 <class 'torch.nn.modules.conv.Conv2d'>  0.135912\n",
      "Sparsity in layer 84 <class 'torch.nn.modules.conv.Conv2d'>  0.135912\n",
      "Sparsity in layer 87 <class 'torch.nn.modules.conv.Conv2d'>  0.135912\n",
      "Sparsity in layer 90 <class 'torch.nn.modules.conv.Conv2d'>  0.135912\n",
      "Sparsity in layer 94 <class 'torch.nn.modules.conv.Conv2d'>  0.135913\n",
      "Sparsity in layer 97 <class 'torch.nn.modules.conv.Conv2d'>  0.135912\n",
      "Sparsity in layer 100 <class 'torch.nn.modules.conv.Conv2d'>  0.135910\n",
      "Sparsity in layer 103 <class 'torch.nn.modules.conv.Conv2d'>  0.135912\n",
      "Sparsity in layer 106 <class 'torch.nn.modules.conv.Conv2d'>  0.135912\n",
      "Sparsity in layer 109 <class 'torch.nn.modules.conv.Conv2d'>  0.135912\n",
      "Sparsity in layer 112 <class 'torch.nn.modules.conv.Conv2d'>  0.135912\n"
     ]
    },
    {
     "output_type": "display_data",
     "data": {
      "application/vnd.jupyter.widget-view+json": {
       "version_major": 2,
       "version_minor": 0,
       "model_id": "6accf343e906404dae7c3b392cf463ee"
      },
      "text/plain": [
       "Validating: 0it [00:00, ?it/s]"
      ]
     },
     "metadata": {}
    },
    {
     "output_type": "display_data",
     "data": {
      "application/vnd.jupyter.widget-view+json": {
       "version_major": 2,
       "version_minor": 0,
       "model_id": "35c4ccdd5c434299b185ebfee9bd1857"
      },
      "text/plain": [
       "Validating: 0it [00:00, ?it/s]"
      ]
     },
     "metadata": {}
    },
    {
     "output_type": "stream",
     "name": "stdout",
     "text": [
      "0.16190833959429007\n",
      "pruning 16.190833959429007% sparsity\n",
      "Sparsity in layer 1 <class 'torch.nn.modules.conv.Conv2d'>  0.162037\n",
      "Sparsity in layer 7 <class 'torch.nn.modules.conv.Conv2d'>  0.161919\n",
      "Sparsity in layer 10 <class 'torch.nn.modules.conv.Conv2d'>  0.161919\n",
      "Sparsity in layer 13 <class 'torch.nn.modules.conv.Conv2d'>  0.161919\n",
      "Sparsity in layer 16 <class 'torch.nn.modules.conv.Conv2d'>  0.161919\n",
      "Sparsity in layer 19 <class 'torch.nn.modules.conv.Conv2d'>  0.161919\n",
      "Sparsity in layer 22 <class 'torch.nn.modules.conv.Conv2d'>  0.161919\n",
      "Sparsity in layer 26 <class 'torch.nn.modules.conv.Conv2d'>  0.161906\n",
      "Sparsity in layer 29 <class 'torch.nn.modules.conv.Conv2d'>  0.161906\n",
      "Sparsity in layer 32 <class 'torch.nn.modules.conv.Conv2d'>  0.161865\n",
      "Sparsity in layer 35 <class 'torch.nn.modules.conv.Conv2d'>  0.161906\n",
      "Sparsity in layer 38 <class 'torch.nn.modules.conv.Conv2d'>  0.161906\n",
      "Sparsity in layer 41 <class 'torch.nn.modules.conv.Conv2d'>  0.161906\n",
      "Sparsity in layer 44 <class 'torch.nn.modules.conv.Conv2d'>  0.161906\n",
      "Sparsity in layer 47 <class 'torch.nn.modules.conv.Conv2d'>  0.161906\n",
      "Sparsity in layer 50 <class 'torch.nn.modules.conv.Conv2d'>  0.161906\n",
      "Sparsity in layer 54 <class 'torch.nn.modules.conv.Conv2d'>  0.161909\n",
      "Sparsity in layer 57 <class 'torch.nn.modules.conv.Conv2d'>  0.161908\n",
      "Sparsity in layer 60 <class 'torch.nn.modules.conv.Conv2d'>  0.161896\n",
      "Sparsity in layer 63 <class 'torch.nn.modules.conv.Conv2d'>  0.161908\n",
      "Sparsity in layer 66 <class 'torch.nn.modules.conv.Conv2d'>  0.161908\n",
      "Sparsity in layer 69 <class 'torch.nn.modules.conv.Conv2d'>  0.161908\n",
      "Sparsity in layer 72 <class 'torch.nn.modules.conv.Conv2d'>  0.161908\n",
      "Sparsity in layer 75 <class 'torch.nn.modules.conv.Conv2d'>  0.161908\n",
      "Sparsity in layer 78 <class 'torch.nn.modules.conv.Conv2d'>  0.161908\n",
      "Sparsity in layer 81 <class 'torch.nn.modules.conv.Conv2d'>  0.161908\n",
      "Sparsity in layer 84 <class 'torch.nn.modules.conv.Conv2d'>  0.161908\n",
      "Sparsity in layer 87 <class 'torch.nn.modules.conv.Conv2d'>  0.161908\n",
      "Sparsity in layer 90 <class 'torch.nn.modules.conv.Conv2d'>  0.161908\n",
      "Sparsity in layer 94 <class 'torch.nn.modules.conv.Conv2d'>  0.161908\n",
      "Sparsity in layer 97 <class 'torch.nn.modules.conv.Conv2d'>  0.161908\n",
      "Sparsity in layer 100 <class 'torch.nn.modules.conv.Conv2d'>  0.161911\n",
      "Sparsity in layer 103 <class 'torch.nn.modules.conv.Conv2d'>  0.161908\n",
      "Sparsity in layer 106 <class 'torch.nn.modules.conv.Conv2d'>  0.161908\n",
      "Sparsity in layer 109 <class 'torch.nn.modules.conv.Conv2d'>  0.161908\n",
      "Sparsity in layer 112 <class 'torch.nn.modules.conv.Conv2d'>  0.161908\n"
     ]
    },
    {
     "output_type": "display_data",
     "data": {
      "application/vnd.jupyter.widget-view+json": {
       "version_major": 2,
       "version_minor": 0,
       "model_id": "72a292db03ac45d4986237db6fd38309"
      },
      "text/plain": [
       "Validating: 0it [00:00, ?it/s]"
      ]
     },
     "metadata": {}
    },
    {
     "output_type": "display_data",
     "data": {
      "application/vnd.jupyter.widget-view+json": {
       "version_major": 2,
       "version_minor": 0,
       "model_id": "d3e68b69c9d6453b87355c8db93b5c36"
      },
      "text/plain": [
       "Validating: 0it [00:00, ?it/s]"
      ]
     },
     "metadata": {}
    },
    {
     "output_type": "stream",
     "name": "stdout",
     "text": [
      "0.18663657494365138\n",
      "pruning 18.66365749436514% sparsity\n",
      "Sparsity in layer 1 <class 'torch.nn.modules.conv.Conv2d'>  0.186921\n",
      "Sparsity in layer 7 <class 'torch.nn.modules.conv.Conv2d'>  0.186632\n",
      "Sparsity in layer 10 <class 'torch.nn.modules.conv.Conv2d'>  0.186632\n",
      "Sparsity in layer 13 <class 'torch.nn.modules.conv.Conv2d'>  0.186632\n",
      "Sparsity in layer 16 <class 'torch.nn.modules.conv.Conv2d'>  0.186632\n",
      "Sparsity in layer 19 <class 'torch.nn.modules.conv.Conv2d'>  0.186632\n",
      "Sparsity in layer 22 <class 'torch.nn.modules.conv.Conv2d'>  0.186632\n",
      "Sparsity in layer 26 <class 'torch.nn.modules.conv.Conv2d'>  0.186632\n",
      "Sparsity in layer 29 <class 'torch.nn.modules.conv.Conv2d'>  0.186639\n",
      "Sparsity in layer 32 <class 'torch.nn.modules.conv.Conv2d'>  0.186646\n",
      "Sparsity in layer 35 <class 'torch.nn.modules.conv.Conv2d'>  0.186639\n",
      "Sparsity in layer 38 <class 'torch.nn.modules.conv.Conv2d'>  0.186639\n",
      "Sparsity in layer 41 <class 'torch.nn.modules.conv.Conv2d'>  0.186639\n",
      "Sparsity in layer 44 <class 'torch.nn.modules.conv.Conv2d'>  0.186639\n",
      "Sparsity in layer 47 <class 'torch.nn.modules.conv.Conv2d'>  0.186639\n",
      "Sparsity in layer 50 <class 'torch.nn.modules.conv.Conv2d'>  0.186639\n",
      "Sparsity in layer 54 <class 'torch.nn.modules.conv.Conv2d'>  0.186635\n",
      "Sparsity in layer 57 <class 'torch.nn.modules.conv.Conv2d'>  0.186637\n",
      "Sparsity in layer 60 <class 'torch.nn.modules.conv.Conv2d'>  0.186646\n",
      "Sparsity in layer 63 <class 'torch.nn.modules.conv.Conv2d'>  0.186637\n",
      "Sparsity in layer 66 <class 'torch.nn.modules.conv.Conv2d'>  0.186637\n",
      "Sparsity in layer 69 <class 'torch.nn.modules.conv.Conv2d'>  0.186637\n",
      "Sparsity in layer 72 <class 'torch.nn.modules.conv.Conv2d'>  0.186637\n",
      "Sparsity in layer 75 <class 'torch.nn.modules.conv.Conv2d'>  0.186637\n",
      "Sparsity in layer 78 <class 'torch.nn.modules.conv.Conv2d'>  0.186637\n",
      "Sparsity in layer 81 <class 'torch.nn.modules.conv.Conv2d'>  0.186637\n",
      "Sparsity in layer 84 <class 'torch.nn.modules.conv.Conv2d'>  0.186637\n",
      "Sparsity in layer 87 <class 'torch.nn.modules.conv.Conv2d'>  0.186637\n",
      "Sparsity in layer 90 <class 'torch.nn.modules.conv.Conv2d'>  0.186637\n",
      "Sparsity in layer 94 <class 'torch.nn.modules.conv.Conv2d'>  0.186636\n",
      "Sparsity in layer 97 <class 'torch.nn.modules.conv.Conv2d'>  0.186637\n",
      "Sparsity in layer 100 <class 'torch.nn.modules.conv.Conv2d'>  0.186638\n",
      "Sparsity in layer 103 <class 'torch.nn.modules.conv.Conv2d'>  0.186637\n",
      "Sparsity in layer 106 <class 'torch.nn.modules.conv.Conv2d'>  0.186637\n",
      "Sparsity in layer 109 <class 'torch.nn.modules.conv.Conv2d'>  0.186637\n",
      "Sparsity in layer 112 <class 'torch.nn.modules.conv.Conv2d'>  0.186637\n"
     ]
    },
    {
     "output_type": "display_data",
     "data": {
      "application/vnd.jupyter.widget-view+json": {
       "version_major": 2,
       "version_minor": 0,
       "model_id": "5f9aefe6cfed4c51aabe30a071eb0ca2"
      },
      "text/plain": [
       "Validating: 0it [00:00, ?it/s]"
      ]
     },
     "metadata": {}
    },
    {
     "output_type": "display_data",
     "data": {
      "application/vnd.jupyter.widget-view+json": {
       "version_major": 2,
       "version_minor": 0,
       "model_id": "eeb737c50a7644939e1497933e5a1326"
      },
      "text/plain": [
       "Validating: 0it [00:00, ?it/s]"
      ]
     },
     "metadata": {}
    },
    {
     "output_type": "stream",
     "name": "stdout",
     "text": [
      "0.21012866265965435\n",
      "pruning 21.012866265965435% sparsity\n",
      "Sparsity in layer 1 <class 'torch.nn.modules.conv.Conv2d'>  0.210069\n",
      "Sparsity in layer 7 <class 'torch.nn.modules.conv.Conv2d'>  0.210124\n",
      "Sparsity in layer 10 <class 'torch.nn.modules.conv.Conv2d'>  0.210124\n",
      "Sparsity in layer 13 <class 'torch.nn.modules.conv.Conv2d'>  0.210124\n",
      "Sparsity in layer 16 <class 'torch.nn.modules.conv.Conv2d'>  0.210124\n",
      "Sparsity in layer 19 <class 'torch.nn.modules.conv.Conv2d'>  0.210124\n",
      "Sparsity in layer 22 <class 'torch.nn.modules.conv.Conv2d'>  0.210124\n",
      "Sparsity in layer 26 <class 'torch.nn.modules.conv.Conv2d'>  0.210124\n",
      "Sparsity in layer 29 <class 'torch.nn.modules.conv.Conv2d'>  0.210130\n",
      "Sparsity in layer 32 <class 'torch.nn.modules.conv.Conv2d'>  0.210083\n",
      "Sparsity in layer 35 <class 'torch.nn.modules.conv.Conv2d'>  0.210130\n",
      "Sparsity in layer 38 <class 'torch.nn.modules.conv.Conv2d'>  0.210130\n",
      "Sparsity in layer 41 <class 'torch.nn.modules.conv.Conv2d'>  0.210130\n",
      "Sparsity in layer 44 <class 'torch.nn.modules.conv.Conv2d'>  0.210130\n",
      "Sparsity in layer 47 <class 'torch.nn.modules.conv.Conv2d'>  0.210130\n",
      "Sparsity in layer 50 <class 'torch.nn.modules.conv.Conv2d'>  0.210130\n",
      "Sparsity in layer 54 <class 'torch.nn.modules.conv.Conv2d'>  0.210127\n",
      "Sparsity in layer 57 <class 'torch.nn.modules.conv.Conv2d'>  0.210129\n",
      "Sparsity in layer 60 <class 'torch.nn.modules.conv.Conv2d'>  0.210114\n",
      "Sparsity in layer 63 <class 'torch.nn.modules.conv.Conv2d'>  0.210129\n",
      "Sparsity in layer 66 <class 'torch.nn.modules.conv.Conv2d'>  0.210129\n",
      "Sparsity in layer 69 <class 'torch.nn.modules.conv.Conv2d'>  0.210129\n",
      "Sparsity in layer 72 <class 'torch.nn.modules.conv.Conv2d'>  0.210129\n",
      "Sparsity in layer 75 <class 'torch.nn.modules.conv.Conv2d'>  0.210129\n",
      "Sparsity in layer 78 <class 'torch.nn.modules.conv.Conv2d'>  0.210129\n",
      "Sparsity in layer 81 <class 'torch.nn.modules.conv.Conv2d'>  0.210129\n",
      "Sparsity in layer 84 <class 'torch.nn.modules.conv.Conv2d'>  0.210129\n",
      "Sparsity in layer 87 <class 'torch.nn.modules.conv.Conv2d'>  0.210129\n",
      "Sparsity in layer 90 <class 'torch.nn.modules.conv.Conv2d'>  0.210129\n",
      "Sparsity in layer 94 <class 'torch.nn.modules.conv.Conv2d'>  0.210129\n",
      "Sparsity in layer 97 <class 'torch.nn.modules.conv.Conv2d'>  0.210129\n",
      "Sparsity in layer 100 <class 'torch.nn.modules.conv.Conv2d'>  0.210129\n",
      "Sparsity in layer 103 <class 'torch.nn.modules.conv.Conv2d'>  0.210129\n",
      "Sparsity in layer 106 <class 'torch.nn.modules.conv.Conv2d'>  0.210129\n",
      "Sparsity in layer 109 <class 'torch.nn.modules.conv.Conv2d'>  0.210129\n",
      "Sparsity in layer 112 <class 'torch.nn.modules.conv.Conv2d'>  0.210129\n"
     ]
    },
    {
     "output_type": "display_data",
     "data": {
      "application/vnd.jupyter.widget-view+json": {
       "version_major": 2,
       "version_minor": 0,
       "model_id": "72db558ba6024e1b9e25234204df57e9"
      },
      "text/plain": [
       "Validating: 0it [00:00, ?it/s]"
      ]
     },
     "metadata": {}
    },
    {
     "output_type": "display_data",
     "data": {
      "application/vnd.jupyter.widget-view+json": {
       "version_major": 2,
       "version_minor": 0,
       "model_id": "0171df5584ea489da0c4d274ff31a611"
      },
      "text/plain": [
       "Validating: 0it [00:00, ?it/s]"
      ]
     },
     "metadata": {}
    },
    {
     "output_type": "stream",
     "name": "stdout",
     "text": [
      "0.232416298835462\n",
      "pruning 23.2416298835462% sparsity\n",
      "Sparsity in layer 1 <class 'torch.nn.modules.conv.Conv2d'>  0.232639\n",
      "Sparsity in layer 7 <class 'torch.nn.modules.conv.Conv2d'>  0.232422\n",
      "Sparsity in layer 10 <class 'torch.nn.modules.conv.Conv2d'>  0.232422\n",
      "Sparsity in layer 13 <class 'torch.nn.modules.conv.Conv2d'>  0.232422\n",
      "Sparsity in layer 16 <class 'torch.nn.modules.conv.Conv2d'>  0.232422\n",
      "Sparsity in layer 19 <class 'torch.nn.modules.conv.Conv2d'>  0.232422\n",
      "Sparsity in layer 22 <class 'torch.nn.modules.conv.Conv2d'>  0.232422\n",
      "Sparsity in layer 26 <class 'torch.nn.modules.conv.Conv2d'>  0.232422\n",
      "Sparsity in layer 29 <class 'torch.nn.modules.conv.Conv2d'>  0.232415\n",
      "Sparsity in layer 32 <class 'torch.nn.modules.conv.Conv2d'>  0.232422\n",
      "Sparsity in layer 35 <class 'torch.nn.modules.conv.Conv2d'>  0.232415\n",
      "Sparsity in layer 38 <class 'torch.nn.modules.conv.Conv2d'>  0.232415\n",
      "Sparsity in layer 41 <class 'torch.nn.modules.conv.Conv2d'>  0.232415\n",
      "Sparsity in layer 44 <class 'torch.nn.modules.conv.Conv2d'>  0.232415\n",
      "Sparsity in layer 47 <class 'torch.nn.modules.conv.Conv2d'>  0.232415\n",
      "Sparsity in layer 50 <class 'torch.nn.modules.conv.Conv2d'>  0.232415\n",
      "Sparsity in layer 54 <class 'torch.nn.modules.conv.Conv2d'>  0.232415\n",
      "Sparsity in layer 57 <class 'torch.nn.modules.conv.Conv2d'>  0.232417\n",
      "Sparsity in layer 60 <class 'torch.nn.modules.conv.Conv2d'>  0.232422\n",
      "Sparsity in layer 63 <class 'torch.nn.modules.conv.Conv2d'>  0.232417\n",
      "Sparsity in layer 66 <class 'torch.nn.modules.conv.Conv2d'>  0.232417\n",
      "Sparsity in layer 69 <class 'torch.nn.modules.conv.Conv2d'>  0.232417\n",
      "Sparsity in layer 72 <class 'torch.nn.modules.conv.Conv2d'>  0.232417\n",
      "Sparsity in layer 75 <class 'torch.nn.modules.conv.Conv2d'>  0.232417\n",
      "Sparsity in layer 78 <class 'torch.nn.modules.conv.Conv2d'>  0.232417\n",
      "Sparsity in layer 81 <class 'torch.nn.modules.conv.Conv2d'>  0.232417\n",
      "Sparsity in layer 84 <class 'torch.nn.modules.conv.Conv2d'>  0.232417\n",
      "Sparsity in layer 87 <class 'torch.nn.modules.conv.Conv2d'>  0.232417\n",
      "Sparsity in layer 90 <class 'torch.nn.modules.conv.Conv2d'>  0.232417\n",
      "Sparsity in layer 94 <class 'torch.nn.modules.conv.Conv2d'>  0.232416\n",
      "Sparsity in layer 97 <class 'torch.nn.modules.conv.Conv2d'>  0.232416\n",
      "Sparsity in layer 100 <class 'torch.nn.modules.conv.Conv2d'>  0.232414\n",
      "Sparsity in layer 103 <class 'torch.nn.modules.conv.Conv2d'>  0.232416\n",
      "Sparsity in layer 106 <class 'torch.nn.modules.conv.Conv2d'>  0.232416\n",
      "Sparsity in layer 109 <class 'torch.nn.modules.conv.Conv2d'>  0.232416\n",
      "Sparsity in layer 112 <class 'torch.nn.modules.conv.Conv2d'>  0.232416\n"
     ]
    },
    {
     "output_type": "display_data",
     "data": {
      "application/vnd.jupyter.widget-view+json": {
       "version_major": 2,
       "version_minor": 0,
       "model_id": "9735011fb9794a5e93b90c209b88c177"
      },
      "text/plain": [
       "Validating: 0it [00:00, ?it/s]"
      ]
     },
     "metadata": {}
    },
    {
     "output_type": "display_data",
     "data": {
      "application/vnd.jupyter.widget-view+json": {
       "version_major": 2,
       "version_minor": 0,
       "model_id": "2ee7fe86d07742e9bfa4781c34f09979"
      },
      "text/plain": [
       "Validating: 0it [00:00, ?it/s]"
      ]
     },
     "metadata": {}
    },
    {
     "output_type": "stream",
     "name": "stdout",
     "text": [
      "0.25353117956423743\n",
      "pruning 25.353117956423745% sparsity\n",
      "Sparsity in layer 1 <class 'torch.nn.modules.conv.Conv2d'>  0.253472\n",
      "Sparsity in layer 7 <class 'torch.nn.modules.conv.Conv2d'>  0.253526\n",
      "Sparsity in layer 10 <class 'torch.nn.modules.conv.Conv2d'>  0.253526\n",
      "Sparsity in layer 13 <class 'torch.nn.modules.conv.Conv2d'>  0.253526\n",
      "Sparsity in layer 16 <class 'torch.nn.modules.conv.Conv2d'>  0.253526\n",
      "Sparsity in layer 19 <class 'torch.nn.modules.conv.Conv2d'>  0.253526\n",
      "Sparsity in layer 22 <class 'torch.nn.modules.conv.Conv2d'>  0.253526\n",
      "Sparsity in layer 26 <class 'torch.nn.modules.conv.Conv2d'>  0.253526\n",
      "Sparsity in layer 29 <class 'torch.nn.modules.conv.Conv2d'>  0.253533\n",
      "Sparsity in layer 32 <class 'torch.nn.modules.conv.Conv2d'>  0.253540\n",
      "Sparsity in layer 35 <class 'torch.nn.modules.conv.Conv2d'>  0.253533\n",
      "Sparsity in layer 38 <class 'torch.nn.modules.conv.Conv2d'>  0.253533\n",
      "Sparsity in layer 41 <class 'torch.nn.modules.conv.Conv2d'>  0.253533\n",
      "Sparsity in layer 44 <class 'torch.nn.modules.conv.Conv2d'>  0.253533\n",
      "Sparsity in layer 47 <class 'torch.nn.modules.conv.Conv2d'>  0.253533\n",
      "Sparsity in layer 50 <class 'torch.nn.modules.conv.Conv2d'>  0.253533\n",
      "Sparsity in layer 54 <class 'torch.nn.modules.conv.Conv2d'>  0.253530\n",
      "Sparsity in layer 57 <class 'torch.nn.modules.conv.Conv2d'>  0.253532\n",
      "Sparsity in layer 60 <class 'torch.nn.modules.conv.Conv2d'>  0.253540\n",
      "Sparsity in layer 63 <class 'torch.nn.modules.conv.Conv2d'>  0.253532\n",
      "Sparsity in layer 66 <class 'torch.nn.modules.conv.Conv2d'>  0.253532\n",
      "Sparsity in layer 69 <class 'torch.nn.modules.conv.Conv2d'>  0.253532\n",
      "Sparsity in layer 72 <class 'torch.nn.modules.conv.Conv2d'>  0.253532\n",
      "Sparsity in layer 75 <class 'torch.nn.modules.conv.Conv2d'>  0.253532\n",
      "Sparsity in layer 78 <class 'torch.nn.modules.conv.Conv2d'>  0.253532\n",
      "Sparsity in layer 81 <class 'torch.nn.modules.conv.Conv2d'>  0.253532\n",
      "Sparsity in layer 84 <class 'torch.nn.modules.conv.Conv2d'>  0.253532\n",
      "Sparsity in layer 87 <class 'torch.nn.modules.conv.Conv2d'>  0.253532\n",
      "Sparsity in layer 90 <class 'torch.nn.modules.conv.Conv2d'>  0.253532\n",
      "Sparsity in layer 94 <class 'torch.nn.modules.conv.Conv2d'>  0.253532\n",
      "Sparsity in layer 97 <class 'torch.nn.modules.conv.Conv2d'>  0.253531\n",
      "Sparsity in layer 100 <class 'torch.nn.modules.conv.Conv2d'>  0.253532\n",
      "Sparsity in layer 103 <class 'torch.nn.modules.conv.Conv2d'>  0.253531\n",
      "Sparsity in layer 106 <class 'torch.nn.modules.conv.Conv2d'>  0.253531\n",
      "Sparsity in layer 109 <class 'torch.nn.modules.conv.Conv2d'>  0.253531\n",
      "Sparsity in layer 112 <class 'torch.nn.modules.conv.Conv2d'>  0.253531\n"
     ]
    },
    {
     "output_type": "display_data",
     "data": {
      "application/vnd.jupyter.widget-view+json": {
       "version_major": 2,
       "version_minor": 0,
       "model_id": "27627c52e5ba470cbf5a1981beedd2d1"
      },
      "text/plain": [
       "Validating: 0it [00:00, ?it/s]"
      ]
     },
     "metadata": {}
    },
    {
     "output_type": "display_data",
     "data": {
      "application/vnd.jupyter.widget-view+json": {
       "version_major": 2,
       "version_minor": 0,
       "model_id": "52dadb9a8df140268db8c87e6c66da58"
      },
      "text/plain": [
       "Validating: 0it [00:00, ?it/s]"
      ]
     },
     "metadata": {}
    },
    {
     "output_type": "stream",
     "name": "stdout",
     "text": [
      "0.27350500093914354\n",
      "pruning 27.350500093914356% sparsity\n",
      "Sparsity in layer 1 <class 'torch.nn.modules.conv.Conv2d'>  0.273727\n",
      "Sparsity in layer 7 <class 'torch.nn.modules.conv.Conv2d'>  0.273492\n",
      "Sparsity in layer 10 <class 'torch.nn.modules.conv.Conv2d'>  0.273492\n",
      "Sparsity in layer 13 <class 'torch.nn.modules.conv.Conv2d'>  0.273492\n",
      "Sparsity in layer 16 <class 'torch.nn.modules.conv.Conv2d'>  0.273492\n",
      "Sparsity in layer 19 <class 'torch.nn.modules.conv.Conv2d'>  0.273492\n",
      "Sparsity in layer 22 <class 'torch.nn.modules.conv.Conv2d'>  0.273492\n",
      "Sparsity in layer 26 <class 'torch.nn.modules.conv.Conv2d'>  0.273505\n",
      "Sparsity in layer 29 <class 'torch.nn.modules.conv.Conv2d'>  0.273505\n",
      "Sparsity in layer 32 <class 'torch.nn.modules.conv.Conv2d'>  0.273560\n",
      "Sparsity in layer 35 <class 'torch.nn.modules.conv.Conv2d'>  0.273505\n",
      "Sparsity in layer 38 <class 'torch.nn.modules.conv.Conv2d'>  0.273505\n",
      "Sparsity in layer 41 <class 'torch.nn.modules.conv.Conv2d'>  0.273505\n",
      "Sparsity in layer 44 <class 'torch.nn.modules.conv.Conv2d'>  0.273505\n",
      "Sparsity in layer 47 <class 'torch.nn.modules.conv.Conv2d'>  0.273505\n",
      "Sparsity in layer 50 <class 'torch.nn.modules.conv.Conv2d'>  0.273505\n",
      "Sparsity in layer 54 <class 'torch.nn.modules.conv.Conv2d'>  0.273505\n",
      "Sparsity in layer 57 <class 'torch.nn.modules.conv.Conv2d'>  0.273505\n",
      "Sparsity in layer 60 <class 'torch.nn.modules.conv.Conv2d'>  0.273499\n",
      "Sparsity in layer 63 <class 'torch.nn.modules.conv.Conv2d'>  0.273505\n",
      "Sparsity in layer 66 <class 'torch.nn.modules.conv.Conv2d'>  0.273505\n",
      "Sparsity in layer 69 <class 'torch.nn.modules.conv.Conv2d'>  0.273505\n",
      "Sparsity in layer 72 <class 'torch.nn.modules.conv.Conv2d'>  0.273505\n",
      "Sparsity in layer 75 <class 'torch.nn.modules.conv.Conv2d'>  0.273505\n",
      "Sparsity in layer 78 <class 'torch.nn.modules.conv.Conv2d'>  0.273505\n",
      "Sparsity in layer 81 <class 'torch.nn.modules.conv.Conv2d'>  0.273505\n",
      "Sparsity in layer 84 <class 'torch.nn.modules.conv.Conv2d'>  0.273505\n",
      "Sparsity in layer 87 <class 'torch.nn.modules.conv.Conv2d'>  0.273505\n",
      "Sparsity in layer 90 <class 'torch.nn.modules.conv.Conv2d'>  0.273505\n",
      "Sparsity in layer 94 <class 'torch.nn.modules.conv.Conv2d'>  0.273505\n",
      "Sparsity in layer 97 <class 'torch.nn.modules.conv.Conv2d'>  0.273505\n",
      "Sparsity in layer 100 <class 'torch.nn.modules.conv.Conv2d'>  0.273506\n",
      "Sparsity in layer 103 <class 'torch.nn.modules.conv.Conv2d'>  0.273505\n",
      "Sparsity in layer 106 <class 'torch.nn.modules.conv.Conv2d'>  0.273505\n",
      "Sparsity in layer 109 <class 'torch.nn.modules.conv.Conv2d'>  0.273505\n",
      "Sparsity in layer 112 <class 'torch.nn.modules.conv.Conv2d'>  0.273505\n"
     ]
    },
    {
     "output_type": "display_data",
     "data": {
      "application/vnd.jupyter.widget-view+json": {
       "version_major": 2,
       "version_minor": 0,
       "model_id": "c15c9906e2a0483c9c840075284c7ded"
      },
      "text/plain": [
       "Validating: 0it [00:00, ?it/s]"
      ]
     },
     "metadata": {}
    }
   ],
   "metadata": {}
  },
  {
   "cell_type": "code",
   "execution_count": 8,
   "source": [
    "pl_logger = SparsityLogger('pl_logger_test.csv')"
   ],
   "outputs": [],
   "metadata": {}
  },
  {
   "cell_type": "code",
   "execution_count": 9,
   "source": [
    "class PL_Pruning_Callback(Callback):\n",
    "   def on_train_end(self, trainer: \"pl.Trainer\", pl_module: \"pl.LightningModule\") -> None:\n",
    "        torch.save(trainer.model.state_dict(), 'pl_pruning_weights.pth')\n",
    "\n",
    "pl_training_module = PruningTrainingModule(\n",
    "    model_name='resnet34',\n",
    "    image_size=1,\n",
    "    num_classes=10,\n",
    "    pre_trained=False,\n",
    "    lr=0.01,\n",
    "    epochs=20,\n",
    "    mixup=False,\n",
    "    momentum=0.005,\n",
    "    logger=pl_logger,\n",
    "    weight_decay=1e-5\n",
    "        )\n",
    "\n",
    "pl_pruning_trainer = pl.Trainer(gpus=1, max_epochs=20, callbacks=[PL_Pruning_Callback(), ModelPruning(pruning_fn=\"l1_unstructured\", parameter_names=[\"weight\"], prune_on_train_epoch_end=False, make_pruning_permanent=True, amount=pl_training_module.OG_Pruning_Scheduler(), apply_pruning=True, verbose=2)])\n",
    "\n",
    "pl_pruning_trainer.fit(pl_training_module ,dm)"
   ],
   "outputs": [
    {
     "output_type": "stream",
     "name": "stderr",
     "text": [
      "GPU available: True, used: True\n",
      "TPU available: False, using: 0 TPU cores\n",
      "IPU available: False, using: 0 IPUs\n",
      "/home/nathaniel/anaconda3/envs/kd-experiments-pl/lib/python3.9/site-packages/pytorch_lightning/core/datamodule.py:423: LightningDeprecationWarning: DataModule.setup has already been called, so it will not be called again. In v1.6 this behavior will change to always call DataModule.setup.\n",
      "  rank_zero_deprecation(\n",
      "LOCAL_RANK: 0 - CUDA_VISIBLE_DEVICES: [0]\n",
      "\n",
      "  | Name      | Type             | Params\n",
      "-----------------------------------------------\n",
      "0 | _model    | ResNet           | 21.3 M\n",
      "1 | _loss     | CrossEntropyLoss | 0     \n",
      "2 | val_acc   | Accuracy         | 0     \n",
      "3 | train_acc | Accuracy         | 0     \n",
      "-----------------------------------------------\n",
      "21.3 M    Trainable params\n",
      "0         Non-trainable params\n",
      "21.3 M    Total params\n",
      "85.128    Total estimated model params size (MB)\n"
     ]
    },
    {
     "output_type": "display_data",
     "data": {
      "application/vnd.jupyter.widget-view+json": {
       "version_major": 2,
       "version_minor": 0,
       "model_id": "26421505d1d54494a67767150759c2d0"
      },
      "text/plain": [
       "Validation sanity check: 0it [00:00, ?it/s]"
      ]
     },
     "metadata": {}
    },
    {
     "output_type": "display_data",
     "data": {
      "application/vnd.jupyter.widget-view+json": {
       "version_major": 2,
       "version_minor": 0,
       "model_id": "65118207b01b48d1957d34ef6105d85b"
      },
      "text/plain": [
       "Training: -1it [00:00, ?it/s]"
      ]
     },
     "metadata": {}
    },
    {
     "output_type": "display_data",
     "data": {
      "application/vnd.jupyter.widget-view+json": {
       "version_major": 2,
       "version_minor": 0,
       "model_id": "258c7d9c461f4ea9abb8ca70ba761a2b"
      },
      "text/plain": [
       "Validating: 0it [00:00, ?it/s]"
      ]
     },
     "metadata": {}
    },
    {
     "output_type": "stream",
     "name": "stdout",
     "text": [
      "0.04999999999999999\n",
      "pruning 4.999999999999999% sparsity\n",
      "Sparsity in layer 1 <class 'torch.nn.modules.conv.Conv2d'>  0.049769\n",
      "Sparsity in layer 7 <class 'torch.nn.modules.conv.Conv2d'>  0.049995\n",
      "Sparsity in layer 10 <class 'torch.nn.modules.conv.Conv2d'>  0.049995\n",
      "Sparsity in layer 13 <class 'torch.nn.modules.conv.Conv2d'>  0.049995\n",
      "Sparsity in layer 16 <class 'torch.nn.modules.conv.Conv2d'>  0.049995\n",
      "Sparsity in layer 19 <class 'torch.nn.modules.conv.Conv2d'>  0.049995\n",
      "Sparsity in layer 22 <class 'torch.nn.modules.conv.Conv2d'>  0.049995\n",
      "Sparsity in layer 26 <class 'torch.nn.modules.conv.Conv2d'>  0.049995\n",
      "Sparsity in layer 29 <class 'torch.nn.modules.conv.Conv2d'>  0.050001\n",
      "Sparsity in layer 32 <class 'torch.nn.modules.conv.Conv2d'>  0.050049\n",
      "Sparsity in layer 35 <class 'torch.nn.modules.conv.Conv2d'>  0.050001\n",
      "Sparsity in layer 38 <class 'torch.nn.modules.conv.Conv2d'>  0.050001\n",
      "Sparsity in layer 41 <class 'torch.nn.modules.conv.Conv2d'>  0.050001\n",
      "Sparsity in layer 44 <class 'torch.nn.modules.conv.Conv2d'>  0.050001\n",
      "Sparsity in layer 47 <class 'torch.nn.modules.conv.Conv2d'>  0.050001\n",
      "Sparsity in layer 50 <class 'torch.nn.modules.conv.Conv2d'>  0.050001\n",
      "Sparsity in layer 54 <class 'torch.nn.modules.conv.Conv2d'>  0.050001\n",
      "Sparsity in layer 57 <class 'torch.nn.modules.conv.Conv2d'>  0.050000\n",
      "Sparsity in layer 60 <class 'torch.nn.modules.conv.Conv2d'>  0.049988\n",
      "Sparsity in layer 63 <class 'torch.nn.modules.conv.Conv2d'>  0.050000\n",
      "Sparsity in layer 66 <class 'torch.nn.modules.conv.Conv2d'>  0.050000\n",
      "Sparsity in layer 69 <class 'torch.nn.modules.conv.Conv2d'>  0.050000\n",
      "Sparsity in layer 72 <class 'torch.nn.modules.conv.Conv2d'>  0.050000\n",
      "Sparsity in layer 75 <class 'torch.nn.modules.conv.Conv2d'>  0.050000\n",
      "Sparsity in layer 78 <class 'torch.nn.modules.conv.Conv2d'>  0.050000\n",
      "Sparsity in layer 81 <class 'torch.nn.modules.conv.Conv2d'>  0.050000\n",
      "Sparsity in layer 84 <class 'torch.nn.modules.conv.Conv2d'>  0.050000\n",
      "Sparsity in layer 87 <class 'torch.nn.modules.conv.Conv2d'>  0.050000\n",
      "Sparsity in layer 90 <class 'torch.nn.modules.conv.Conv2d'>  0.050000\n",
      "Sparsity in layer 94 <class 'torch.nn.modules.conv.Conv2d'>  0.050000\n",
      "Sparsity in layer 97 <class 'torch.nn.modules.conv.Conv2d'>  0.050000\n",
      "Sparsity in layer 100 <class 'torch.nn.modules.conv.Conv2d'>  0.050003\n",
      "Sparsity in layer 103 <class 'torch.nn.modules.conv.Conv2d'>  0.050000\n",
      "Sparsity in layer 106 <class 'torch.nn.modules.conv.Conv2d'>  0.050000\n",
      "Sparsity in layer 109 <class 'torch.nn.modules.conv.Conv2d'>  0.050000\n",
      "Sparsity in layer 112 <class 'torch.nn.modules.conv.Conv2d'>  0.050000\n"
     ]
    },
    {
     "output_type": "display_data",
     "data": {
      "application/vnd.jupyter.widget-view+json": {
       "version_major": 2,
       "version_minor": 0,
       "model_id": "c5a8fbce479a4881af02a9dd444747c7"
      },
      "text/plain": [
       "Validating: 0it [00:00, ?it/s]"
      ]
     },
     "metadata": {}
    },
    {
     "output_type": "display_data",
     "data": {
      "application/vnd.jupyter.widget-view+json": {
       "version_major": 2,
       "version_minor": 0,
       "model_id": "d81e748631a948f792b85aa14157e594"
      },
      "text/plain": [
       "Validating: 0it [00:00, ?it/s]"
      ]
     },
     "metadata": {}
    },
    {
     "output_type": "stream",
     "name": "stdout",
     "text": [
      "0.0799897868144252\n",
      "pruning 7.99897868144252% sparsity\n",
      "Sparsity in layer 1 <class 'torch.nn.modules.conv.Conv2d'>  0.079861\n",
      "Sparsity in layer 7 <class 'torch.nn.modules.conv.Conv2d'>  0.079997\n",
      "Sparsity in layer 10 <class 'torch.nn.modules.conv.Conv2d'>  0.079997\n",
      "Sparsity in layer 13 <class 'torch.nn.modules.conv.Conv2d'>  0.079997\n",
      "Sparsity in layer 16 <class 'torch.nn.modules.conv.Conv2d'>  0.079997\n",
      "Sparsity in layer 19 <class 'torch.nn.modules.conv.Conv2d'>  0.079997\n",
      "Sparsity in layer 22 <class 'torch.nn.modules.conv.Conv2d'>  0.079997\n",
      "Sparsity in layer 26 <class 'torch.nn.modules.conv.Conv2d'>  0.079983\n",
      "Sparsity in layer 29 <class 'torch.nn.modules.conv.Conv2d'>  0.079990\n",
      "Sparsity in layer 32 <class 'torch.nn.modules.conv.Conv2d'>  0.079956\n",
      "Sparsity in layer 35 <class 'torch.nn.modules.conv.Conv2d'>  0.079990\n",
      "Sparsity in layer 38 <class 'torch.nn.modules.conv.Conv2d'>  0.079990\n",
      "Sparsity in layer 41 <class 'torch.nn.modules.conv.Conv2d'>  0.079990\n",
      "Sparsity in layer 44 <class 'torch.nn.modules.conv.Conv2d'>  0.079990\n",
      "Sparsity in layer 47 <class 'torch.nn.modules.conv.Conv2d'>  0.079990\n",
      "Sparsity in layer 50 <class 'torch.nn.modules.conv.Conv2d'>  0.079990\n",
      "Sparsity in layer 54 <class 'torch.nn.modules.conv.Conv2d'>  0.079990\n",
      "Sparsity in layer 57 <class 'torch.nn.modules.conv.Conv2d'>  0.079990\n",
      "Sparsity in layer 60 <class 'torch.nn.modules.conv.Conv2d'>  0.079987\n",
      "Sparsity in layer 63 <class 'torch.nn.modules.conv.Conv2d'>  0.079990\n",
      "Sparsity in layer 66 <class 'torch.nn.modules.conv.Conv2d'>  0.079990\n",
      "Sparsity in layer 69 <class 'torch.nn.modules.conv.Conv2d'>  0.079990\n",
      "Sparsity in layer 72 <class 'torch.nn.modules.conv.Conv2d'>  0.079990\n",
      "Sparsity in layer 75 <class 'torch.nn.modules.conv.Conv2d'>  0.079990\n",
      "Sparsity in layer 78 <class 'torch.nn.modules.conv.Conv2d'>  0.079990\n",
      "Sparsity in layer 81 <class 'torch.nn.modules.conv.Conv2d'>  0.079990\n",
      "Sparsity in layer 84 <class 'torch.nn.modules.conv.Conv2d'>  0.079990\n",
      "Sparsity in layer 87 <class 'torch.nn.modules.conv.Conv2d'>  0.079990\n",
      "Sparsity in layer 90 <class 'torch.nn.modules.conv.Conv2d'>  0.079990\n",
      "Sparsity in layer 94 <class 'torch.nn.modules.conv.Conv2d'>  0.079990\n",
      "Sparsity in layer 97 <class 'torch.nn.modules.conv.Conv2d'>  0.079990\n",
      "Sparsity in layer 100 <class 'torch.nn.modules.conv.Conv2d'>  0.079987\n",
      "Sparsity in layer 103 <class 'torch.nn.modules.conv.Conv2d'>  0.079990\n",
      "Sparsity in layer 106 <class 'torch.nn.modules.conv.Conv2d'>  0.079990\n",
      "Sparsity in layer 109 <class 'torch.nn.modules.conv.Conv2d'>  0.079990\n",
      "Sparsity in layer 112 <class 'torch.nn.modules.conv.Conv2d'>  0.079990\n"
     ]
    },
    {
     "output_type": "display_data",
     "data": {
      "application/vnd.jupyter.widget-view+json": {
       "version_major": 2,
       "version_minor": 0,
       "model_id": "984ce21a1ea34e169e24a6d893357c41"
      },
      "text/plain": [
       "Validating: 0it [00:00, ?it/s]"
      ]
     },
     "metadata": {}
    },
    {
     "output_type": "display_data",
     "data": {
      "application/vnd.jupyter.widget-view+json": {
       "version_major": 2,
       "version_minor": 0,
       "model_id": "06cf68c9f8ab45dba019a1bbcdb4205b"
      },
      "text/plain": [
       "Validating: 0it [00:00, ?it/s]"
      ]
     },
     "metadata": {}
    },
    {
     "output_type": "stream",
     "name": "stdout",
     "text": [
      "0.1086166416228399\n",
      "pruning 10.86166416228399% sparsity\n",
      "Sparsity in layer 1 <class 'torch.nn.modules.conv.Conv2d'>  0.108796\n",
      "Sparsity in layer 7 <class 'torch.nn.modules.conv.Conv2d'>  0.108615\n",
      "Sparsity in layer 10 <class 'torch.nn.modules.conv.Conv2d'>  0.108615\n",
      "Sparsity in layer 13 <class 'torch.nn.modules.conv.Conv2d'>  0.108615\n",
      "Sparsity in layer 16 <class 'torch.nn.modules.conv.Conv2d'>  0.108615\n",
      "Sparsity in layer 19 <class 'torch.nn.modules.conv.Conv2d'>  0.108615\n",
      "Sparsity in layer 22 <class 'torch.nn.modules.conv.Conv2d'>  0.108615\n",
      "Sparsity in layer 26 <class 'torch.nn.modules.conv.Conv2d'>  0.108615\n",
      "Sparsity in layer 29 <class 'torch.nn.modules.conv.Conv2d'>  0.108615\n",
      "Sparsity in layer 32 <class 'torch.nn.modules.conv.Conv2d'>  0.108643\n",
      "Sparsity in layer 35 <class 'torch.nn.modules.conv.Conv2d'>  0.108615\n",
      "Sparsity in layer 38 <class 'torch.nn.modules.conv.Conv2d'>  0.108615\n",
      "Sparsity in layer 41 <class 'torch.nn.modules.conv.Conv2d'>  0.108615\n",
      "Sparsity in layer 44 <class 'torch.nn.modules.conv.Conv2d'>  0.108615\n",
      "Sparsity in layer 47 <class 'torch.nn.modules.conv.Conv2d'>  0.108615\n",
      "Sparsity in layer 50 <class 'torch.nn.modules.conv.Conv2d'>  0.108615\n",
      "Sparsity in layer 54 <class 'torch.nn.modules.conv.Conv2d'>  0.108615\n",
      "Sparsity in layer 57 <class 'torch.nn.modules.conv.Conv2d'>  0.108617\n",
      "Sparsity in layer 60 <class 'torch.nn.modules.conv.Conv2d'>  0.108612\n",
      "Sparsity in layer 63 <class 'torch.nn.modules.conv.Conv2d'>  0.108617\n",
      "Sparsity in layer 66 <class 'torch.nn.modules.conv.Conv2d'>  0.108617\n",
      "Sparsity in layer 69 <class 'torch.nn.modules.conv.Conv2d'>  0.108617\n",
      "Sparsity in layer 72 <class 'torch.nn.modules.conv.Conv2d'>  0.108617\n",
      "Sparsity in layer 75 <class 'torch.nn.modules.conv.Conv2d'>  0.108617\n",
      "Sparsity in layer 78 <class 'torch.nn.modules.conv.Conv2d'>  0.108617\n",
      "Sparsity in layer 81 <class 'torch.nn.modules.conv.Conv2d'>  0.108617\n",
      "Sparsity in layer 84 <class 'torch.nn.modules.conv.Conv2d'>  0.108617\n",
      "Sparsity in layer 87 <class 'torch.nn.modules.conv.Conv2d'>  0.108617\n",
      "Sparsity in layer 90 <class 'torch.nn.modules.conv.Conv2d'>  0.108617\n",
      "Sparsity in layer 94 <class 'torch.nn.modules.conv.Conv2d'>  0.108616\n",
      "Sparsity in layer 97 <class 'torch.nn.modules.conv.Conv2d'>  0.108617\n",
      "Sparsity in layer 100 <class 'torch.nn.modules.conv.Conv2d'>  0.108620\n",
      "Sparsity in layer 103 <class 'torch.nn.modules.conv.Conv2d'>  0.108617\n",
      "Sparsity in layer 106 <class 'torch.nn.modules.conv.Conv2d'>  0.108617\n",
      "Sparsity in layer 109 <class 'torch.nn.modules.conv.Conv2d'>  0.108617\n",
      "Sparsity in layer 112 <class 'torch.nn.modules.conv.Conv2d'>  0.108617\n"
     ]
    },
    {
     "output_type": "display_data",
     "data": {
      "application/vnd.jupyter.widget-view+json": {
       "version_major": 2,
       "version_minor": 0,
       "model_id": "1699a14d55004311adbd7f22603ead03"
      },
      "text/plain": [
       "Validating: 0it [00:00, ?it/s]"
      ]
     },
     "metadata": {}
    },
    {
     "output_type": "display_data",
     "data": {
      "application/vnd.jupyter.widget-view+json": {
       "version_major": 2,
       "version_minor": 0,
       "model_id": "fdada977d8934df0bc01b8ca4a203a77"
      },
      "text/plain": [
       "Validating: 0it [00:00, ?it/s]"
      ]
     },
     "metadata": {}
    },
    {
     "output_type": "stream",
     "name": "stdout",
     "text": [
      "0.1359122605184071\n",
      "pruning 13.59122605184071% sparsity\n",
      "Sparsity in layer 1 <class 'torch.nn.modules.conv.Conv2d'>  0.135995\n",
      "Sparsity in layer 7 <class 'torch.nn.modules.conv.Conv2d'>  0.135905\n",
      "Sparsity in layer 10 <class 'torch.nn.modules.conv.Conv2d'>  0.135905\n",
      "Sparsity in layer 13 <class 'torch.nn.modules.conv.Conv2d'>  0.135905\n",
      "Sparsity in layer 16 <class 'torch.nn.modules.conv.Conv2d'>  0.135905\n",
      "Sparsity in layer 19 <class 'torch.nn.modules.conv.Conv2d'>  0.135905\n",
      "Sparsity in layer 22 <class 'torch.nn.modules.conv.Conv2d'>  0.135905\n",
      "Sparsity in layer 26 <class 'torch.nn.modules.conv.Conv2d'>  0.135919\n",
      "Sparsity in layer 29 <class 'torch.nn.modules.conv.Conv2d'>  0.135912\n",
      "Sparsity in layer 32 <class 'torch.nn.modules.conv.Conv2d'>  0.135864\n",
      "Sparsity in layer 35 <class 'torch.nn.modules.conv.Conv2d'>  0.135912\n",
      "Sparsity in layer 38 <class 'torch.nn.modules.conv.Conv2d'>  0.135912\n",
      "Sparsity in layer 41 <class 'torch.nn.modules.conv.Conv2d'>  0.135912\n",
      "Sparsity in layer 44 <class 'torch.nn.modules.conv.Conv2d'>  0.135912\n",
      "Sparsity in layer 47 <class 'torch.nn.modules.conv.Conv2d'>  0.135912\n",
      "Sparsity in layer 50 <class 'torch.nn.modules.conv.Conv2d'>  0.135912\n",
      "Sparsity in layer 54 <class 'torch.nn.modules.conv.Conv2d'>  0.135912\n",
      "Sparsity in layer 57 <class 'torch.nn.modules.conv.Conv2d'>  0.135912\n",
      "Sparsity in layer 60 <class 'torch.nn.modules.conv.Conv2d'>  0.135925\n",
      "Sparsity in layer 63 <class 'torch.nn.modules.conv.Conv2d'>  0.135912\n",
      "Sparsity in layer 66 <class 'torch.nn.modules.conv.Conv2d'>  0.135912\n",
      "Sparsity in layer 69 <class 'torch.nn.modules.conv.Conv2d'>  0.135912\n",
      "Sparsity in layer 72 <class 'torch.nn.modules.conv.Conv2d'>  0.135912\n",
      "Sparsity in layer 75 <class 'torch.nn.modules.conv.Conv2d'>  0.135912\n",
      "Sparsity in layer 78 <class 'torch.nn.modules.conv.Conv2d'>  0.135912\n",
      "Sparsity in layer 81 <class 'torch.nn.modules.conv.Conv2d'>  0.135912\n",
      "Sparsity in layer 84 <class 'torch.nn.modules.conv.Conv2d'>  0.135912\n",
      "Sparsity in layer 87 <class 'torch.nn.modules.conv.Conv2d'>  0.135912\n",
      "Sparsity in layer 90 <class 'torch.nn.modules.conv.Conv2d'>  0.135912\n",
      "Sparsity in layer 94 <class 'torch.nn.modules.conv.Conv2d'>  0.135913\n",
      "Sparsity in layer 97 <class 'torch.nn.modules.conv.Conv2d'>  0.135912\n",
      "Sparsity in layer 100 <class 'torch.nn.modules.conv.Conv2d'>  0.135910\n",
      "Sparsity in layer 103 <class 'torch.nn.modules.conv.Conv2d'>  0.135912\n",
      "Sparsity in layer 106 <class 'torch.nn.modules.conv.Conv2d'>  0.135912\n",
      "Sparsity in layer 109 <class 'torch.nn.modules.conv.Conv2d'>  0.135912\n",
      "Sparsity in layer 112 <class 'torch.nn.modules.conv.Conv2d'>  0.135912\n"
     ]
    },
    {
     "output_type": "display_data",
     "data": {
      "application/vnd.jupyter.widget-view+json": {
       "version_major": 2,
       "version_minor": 0,
       "model_id": "c69760df2f0247afbc5c132e9322db83"
      },
      "text/plain": [
       "Validating: 0it [00:00, ?it/s]"
      ]
     },
     "metadata": {}
    },
    {
     "output_type": "display_data",
     "data": {
      "application/vnd.jupyter.widget-view+json": {
       "version_major": 2,
       "version_minor": 0,
       "model_id": "678beb0602924d57b28b7d5ec2c1f092"
      },
      "text/plain": [
       "Validating: 0it [00:00, ?it/s]"
      ]
     },
     "metadata": {}
    },
    {
     "output_type": "stream",
     "name": "stdout",
     "text": [
      "0.16190833959429007\n",
      "pruning 16.190833959429007% sparsity\n",
      "Sparsity in layer 1 <class 'torch.nn.modules.conv.Conv2d'>  0.162037\n",
      "Sparsity in layer 7 <class 'torch.nn.modules.conv.Conv2d'>  0.161919\n",
      "Sparsity in layer 10 <class 'torch.nn.modules.conv.Conv2d'>  0.161919\n",
      "Sparsity in layer 13 <class 'torch.nn.modules.conv.Conv2d'>  0.161919\n",
      "Sparsity in layer 16 <class 'torch.nn.modules.conv.Conv2d'>  0.161919\n",
      "Sparsity in layer 19 <class 'torch.nn.modules.conv.Conv2d'>  0.161919\n",
      "Sparsity in layer 22 <class 'torch.nn.modules.conv.Conv2d'>  0.161919\n",
      "Sparsity in layer 26 <class 'torch.nn.modules.conv.Conv2d'>  0.161906\n",
      "Sparsity in layer 29 <class 'torch.nn.modules.conv.Conv2d'>  0.161906\n",
      "Sparsity in layer 32 <class 'torch.nn.modules.conv.Conv2d'>  0.161865\n",
      "Sparsity in layer 35 <class 'torch.nn.modules.conv.Conv2d'>  0.161906\n",
      "Sparsity in layer 38 <class 'torch.nn.modules.conv.Conv2d'>  0.161906\n",
      "Sparsity in layer 41 <class 'torch.nn.modules.conv.Conv2d'>  0.161906\n",
      "Sparsity in layer 44 <class 'torch.nn.modules.conv.Conv2d'>  0.161906\n",
      "Sparsity in layer 47 <class 'torch.nn.modules.conv.Conv2d'>  0.161906\n",
      "Sparsity in layer 50 <class 'torch.nn.modules.conv.Conv2d'>  0.161906\n",
      "Sparsity in layer 54 <class 'torch.nn.modules.conv.Conv2d'>  0.161909\n",
      "Sparsity in layer 57 <class 'torch.nn.modules.conv.Conv2d'>  0.161908\n",
      "Sparsity in layer 60 <class 'torch.nn.modules.conv.Conv2d'>  0.161896\n",
      "Sparsity in layer 63 <class 'torch.nn.modules.conv.Conv2d'>  0.161908\n",
      "Sparsity in layer 66 <class 'torch.nn.modules.conv.Conv2d'>  0.161908\n",
      "Sparsity in layer 69 <class 'torch.nn.modules.conv.Conv2d'>  0.161908\n",
      "Sparsity in layer 72 <class 'torch.nn.modules.conv.Conv2d'>  0.161908\n",
      "Sparsity in layer 75 <class 'torch.nn.modules.conv.Conv2d'>  0.161908\n",
      "Sparsity in layer 78 <class 'torch.nn.modules.conv.Conv2d'>  0.161908\n",
      "Sparsity in layer 81 <class 'torch.nn.modules.conv.Conv2d'>  0.161908\n",
      "Sparsity in layer 84 <class 'torch.nn.modules.conv.Conv2d'>  0.161908\n",
      "Sparsity in layer 87 <class 'torch.nn.modules.conv.Conv2d'>  0.161908\n",
      "Sparsity in layer 90 <class 'torch.nn.modules.conv.Conv2d'>  0.161908\n",
      "Sparsity in layer 94 <class 'torch.nn.modules.conv.Conv2d'>  0.161908\n",
      "Sparsity in layer 97 <class 'torch.nn.modules.conv.Conv2d'>  0.161908\n",
      "Sparsity in layer 100 <class 'torch.nn.modules.conv.Conv2d'>  0.161911\n",
      "Sparsity in layer 103 <class 'torch.nn.modules.conv.Conv2d'>  0.161908\n",
      "Sparsity in layer 106 <class 'torch.nn.modules.conv.Conv2d'>  0.161908\n",
      "Sparsity in layer 109 <class 'torch.nn.modules.conv.Conv2d'>  0.161908\n",
      "Sparsity in layer 112 <class 'torch.nn.modules.conv.Conv2d'>  0.161908\n"
     ]
    },
    {
     "output_type": "display_data",
     "data": {
      "application/vnd.jupyter.widget-view+json": {
       "version_major": 2,
       "version_minor": 0,
       "model_id": "002495ed77b44fbd9f5034c6b425f5cc"
      },
      "text/plain": [
       "Validating: 0it [00:00, ?it/s]"
      ]
     },
     "metadata": {}
    },
    {
     "output_type": "display_data",
     "data": {
      "application/vnd.jupyter.widget-view+json": {
       "version_major": 2,
       "version_minor": 0,
       "model_id": "51e8949ea971407c99fbd06174794df5"
      },
      "text/plain": [
       "Validating: 0it [00:00, ?it/s]"
      ]
     },
     "metadata": {}
    },
    {
     "output_type": "stream",
     "name": "stdout",
     "text": [
      "0.18663657494365138\n",
      "pruning 18.66365749436514% sparsity\n",
      "Sparsity in layer 1 <class 'torch.nn.modules.conv.Conv2d'>  0.186921\n",
      "Sparsity in layer 7 <class 'torch.nn.modules.conv.Conv2d'>  0.186632\n",
      "Sparsity in layer 10 <class 'torch.nn.modules.conv.Conv2d'>  0.186632\n",
      "Sparsity in layer 13 <class 'torch.nn.modules.conv.Conv2d'>  0.186632\n",
      "Sparsity in layer 16 <class 'torch.nn.modules.conv.Conv2d'>  0.186632\n",
      "Sparsity in layer 19 <class 'torch.nn.modules.conv.Conv2d'>  0.186632\n",
      "Sparsity in layer 22 <class 'torch.nn.modules.conv.Conv2d'>  0.186632\n",
      "Sparsity in layer 26 <class 'torch.nn.modules.conv.Conv2d'>  0.186632\n",
      "Sparsity in layer 29 <class 'torch.nn.modules.conv.Conv2d'>  0.186639\n",
      "Sparsity in layer 32 <class 'torch.nn.modules.conv.Conv2d'>  0.186646\n",
      "Sparsity in layer 35 <class 'torch.nn.modules.conv.Conv2d'>  0.186639\n",
      "Sparsity in layer 38 <class 'torch.nn.modules.conv.Conv2d'>  0.186639\n",
      "Sparsity in layer 41 <class 'torch.nn.modules.conv.Conv2d'>  0.186639\n",
      "Sparsity in layer 44 <class 'torch.nn.modules.conv.Conv2d'>  0.186639\n",
      "Sparsity in layer 47 <class 'torch.nn.modules.conv.Conv2d'>  0.186639\n",
      "Sparsity in layer 50 <class 'torch.nn.modules.conv.Conv2d'>  0.186639\n",
      "Sparsity in layer 54 <class 'torch.nn.modules.conv.Conv2d'>  0.186635\n",
      "Sparsity in layer 57 <class 'torch.nn.modules.conv.Conv2d'>  0.186637\n",
      "Sparsity in layer 60 <class 'torch.nn.modules.conv.Conv2d'>  0.186646\n",
      "Sparsity in layer 63 <class 'torch.nn.modules.conv.Conv2d'>  0.186637\n",
      "Sparsity in layer 66 <class 'torch.nn.modules.conv.Conv2d'>  0.186637\n",
      "Sparsity in layer 69 <class 'torch.nn.modules.conv.Conv2d'>  0.186637\n",
      "Sparsity in layer 72 <class 'torch.nn.modules.conv.Conv2d'>  0.186637\n",
      "Sparsity in layer 75 <class 'torch.nn.modules.conv.Conv2d'>  0.186637\n",
      "Sparsity in layer 78 <class 'torch.nn.modules.conv.Conv2d'>  0.186637\n",
      "Sparsity in layer 81 <class 'torch.nn.modules.conv.Conv2d'>  0.186637\n",
      "Sparsity in layer 84 <class 'torch.nn.modules.conv.Conv2d'>  0.186637\n",
      "Sparsity in layer 87 <class 'torch.nn.modules.conv.Conv2d'>  0.186637\n",
      "Sparsity in layer 90 <class 'torch.nn.modules.conv.Conv2d'>  0.186637\n",
      "Sparsity in layer 94 <class 'torch.nn.modules.conv.Conv2d'>  0.186636\n",
      "Sparsity in layer 97 <class 'torch.nn.modules.conv.Conv2d'>  0.186637\n",
      "Sparsity in layer 100 <class 'torch.nn.modules.conv.Conv2d'>  0.186638\n",
      "Sparsity in layer 103 <class 'torch.nn.modules.conv.Conv2d'>  0.186637\n",
      "Sparsity in layer 106 <class 'torch.nn.modules.conv.Conv2d'>  0.186637\n",
      "Sparsity in layer 109 <class 'torch.nn.modules.conv.Conv2d'>  0.186637\n",
      "Sparsity in layer 112 <class 'torch.nn.modules.conv.Conv2d'>  0.186637\n"
     ]
    },
    {
     "output_type": "display_data",
     "data": {
      "application/vnd.jupyter.widget-view+json": {
       "version_major": 2,
       "version_minor": 0,
       "model_id": "837da421ede445a28e76a45b01646bfd"
      },
      "text/plain": [
       "Validating: 0it [00:00, ?it/s]"
      ]
     },
     "metadata": {}
    },
    {
     "output_type": "display_data",
     "data": {
      "application/vnd.jupyter.widget-view+json": {
       "version_major": 2,
       "version_minor": 0,
       "model_id": "a521668a13bd453c9b1d2ae487d70a8f"
      },
      "text/plain": [
       "Validating: 0it [00:00, ?it/s]"
      ]
     },
     "metadata": {}
    },
    {
     "output_type": "stream",
     "name": "stdout",
     "text": [
      "0.21012866265965435\n",
      "pruning 21.012866265965435% sparsity\n",
      "Sparsity in layer 1 <class 'torch.nn.modules.conv.Conv2d'>  0.210069\n",
      "Sparsity in layer 7 <class 'torch.nn.modules.conv.Conv2d'>  0.210124\n",
      "Sparsity in layer 10 <class 'torch.nn.modules.conv.Conv2d'>  0.210124\n",
      "Sparsity in layer 13 <class 'torch.nn.modules.conv.Conv2d'>  0.210124\n",
      "Sparsity in layer 16 <class 'torch.nn.modules.conv.Conv2d'>  0.210124\n",
      "Sparsity in layer 19 <class 'torch.nn.modules.conv.Conv2d'>  0.210124\n",
      "Sparsity in layer 22 <class 'torch.nn.modules.conv.Conv2d'>  0.210124\n",
      "Sparsity in layer 26 <class 'torch.nn.modules.conv.Conv2d'>  0.210124\n",
      "Sparsity in layer 29 <class 'torch.nn.modules.conv.Conv2d'>  0.210130\n",
      "Sparsity in layer 32 <class 'torch.nn.modules.conv.Conv2d'>  0.210083\n",
      "Sparsity in layer 35 <class 'torch.nn.modules.conv.Conv2d'>  0.210130\n",
      "Sparsity in layer 38 <class 'torch.nn.modules.conv.Conv2d'>  0.210130\n",
      "Sparsity in layer 41 <class 'torch.nn.modules.conv.Conv2d'>  0.210130\n",
      "Sparsity in layer 44 <class 'torch.nn.modules.conv.Conv2d'>  0.210130\n",
      "Sparsity in layer 47 <class 'torch.nn.modules.conv.Conv2d'>  0.210130\n",
      "Sparsity in layer 50 <class 'torch.nn.modules.conv.Conv2d'>  0.210130\n",
      "Sparsity in layer 54 <class 'torch.nn.modules.conv.Conv2d'>  0.210127\n",
      "Sparsity in layer 57 <class 'torch.nn.modules.conv.Conv2d'>  0.210129\n",
      "Sparsity in layer 60 <class 'torch.nn.modules.conv.Conv2d'>  0.210114\n",
      "Sparsity in layer 63 <class 'torch.nn.modules.conv.Conv2d'>  0.210129\n",
      "Sparsity in layer 66 <class 'torch.nn.modules.conv.Conv2d'>  0.210129\n",
      "Sparsity in layer 69 <class 'torch.nn.modules.conv.Conv2d'>  0.210129\n",
      "Sparsity in layer 72 <class 'torch.nn.modules.conv.Conv2d'>  0.210129\n",
      "Sparsity in layer 75 <class 'torch.nn.modules.conv.Conv2d'>  0.210129\n",
      "Sparsity in layer 78 <class 'torch.nn.modules.conv.Conv2d'>  0.210129\n",
      "Sparsity in layer 81 <class 'torch.nn.modules.conv.Conv2d'>  0.210129\n",
      "Sparsity in layer 84 <class 'torch.nn.modules.conv.Conv2d'>  0.210129\n",
      "Sparsity in layer 87 <class 'torch.nn.modules.conv.Conv2d'>  0.210129\n",
      "Sparsity in layer 90 <class 'torch.nn.modules.conv.Conv2d'>  0.210129\n",
      "Sparsity in layer 94 <class 'torch.nn.modules.conv.Conv2d'>  0.210129\n",
      "Sparsity in layer 97 <class 'torch.nn.modules.conv.Conv2d'>  0.210129\n",
      "Sparsity in layer 100 <class 'torch.nn.modules.conv.Conv2d'>  0.210129\n",
      "Sparsity in layer 103 <class 'torch.nn.modules.conv.Conv2d'>  0.210129\n",
      "Sparsity in layer 106 <class 'torch.nn.modules.conv.Conv2d'>  0.210129\n",
      "Sparsity in layer 109 <class 'torch.nn.modules.conv.Conv2d'>  0.210129\n",
      "Sparsity in layer 112 <class 'torch.nn.modules.conv.Conv2d'>  0.210129\n"
     ]
    },
    {
     "output_type": "display_data",
     "data": {
      "application/vnd.jupyter.widget-view+json": {
       "version_major": 2,
       "version_minor": 0,
       "model_id": "016d6c4b9d0545869fb5ac4c6b8cad73"
      },
      "text/plain": [
       "Validating: 0it [00:00, ?it/s]"
      ]
     },
     "metadata": {}
    },
    {
     "output_type": "display_data",
     "data": {
      "application/vnd.jupyter.widget-view+json": {
       "version_major": 2,
       "version_minor": 0,
       "model_id": "c8fbf0c470d94379bcf98318638c449d"
      },
      "text/plain": [
       "Validating: 0it [00:00, ?it/s]"
      ]
     },
     "metadata": {}
    },
    {
     "output_type": "stream",
     "name": "stdout",
     "text": [
      "0.232416298835462\n",
      "pruning 23.2416298835462% sparsity\n",
      "Sparsity in layer 1 <class 'torch.nn.modules.conv.Conv2d'>  0.232639\n",
      "Sparsity in layer 7 <class 'torch.nn.modules.conv.Conv2d'>  0.232422\n",
      "Sparsity in layer 10 <class 'torch.nn.modules.conv.Conv2d'>  0.232422\n",
      "Sparsity in layer 13 <class 'torch.nn.modules.conv.Conv2d'>  0.232422\n",
      "Sparsity in layer 16 <class 'torch.nn.modules.conv.Conv2d'>  0.232422\n",
      "Sparsity in layer 19 <class 'torch.nn.modules.conv.Conv2d'>  0.232422\n",
      "Sparsity in layer 22 <class 'torch.nn.modules.conv.Conv2d'>  0.232422\n",
      "Sparsity in layer 26 <class 'torch.nn.modules.conv.Conv2d'>  0.232422\n",
      "Sparsity in layer 29 <class 'torch.nn.modules.conv.Conv2d'>  0.232415\n",
      "Sparsity in layer 32 <class 'torch.nn.modules.conv.Conv2d'>  0.232422\n",
      "Sparsity in layer 35 <class 'torch.nn.modules.conv.Conv2d'>  0.232415\n",
      "Sparsity in layer 38 <class 'torch.nn.modules.conv.Conv2d'>  0.232415\n",
      "Sparsity in layer 41 <class 'torch.nn.modules.conv.Conv2d'>  0.232415\n",
      "Sparsity in layer 44 <class 'torch.nn.modules.conv.Conv2d'>  0.232415\n",
      "Sparsity in layer 47 <class 'torch.nn.modules.conv.Conv2d'>  0.232415\n",
      "Sparsity in layer 50 <class 'torch.nn.modules.conv.Conv2d'>  0.232415\n",
      "Sparsity in layer 54 <class 'torch.nn.modules.conv.Conv2d'>  0.232415\n",
      "Sparsity in layer 57 <class 'torch.nn.modules.conv.Conv2d'>  0.232417\n",
      "Sparsity in layer 60 <class 'torch.nn.modules.conv.Conv2d'>  0.232422\n",
      "Sparsity in layer 63 <class 'torch.nn.modules.conv.Conv2d'>  0.232417\n",
      "Sparsity in layer 66 <class 'torch.nn.modules.conv.Conv2d'>  0.232417\n",
      "Sparsity in layer 69 <class 'torch.nn.modules.conv.Conv2d'>  0.232417\n",
      "Sparsity in layer 72 <class 'torch.nn.modules.conv.Conv2d'>  0.232417\n",
      "Sparsity in layer 75 <class 'torch.nn.modules.conv.Conv2d'>  0.232417\n",
      "Sparsity in layer 78 <class 'torch.nn.modules.conv.Conv2d'>  0.232417\n",
      "Sparsity in layer 81 <class 'torch.nn.modules.conv.Conv2d'>  0.232417\n",
      "Sparsity in layer 84 <class 'torch.nn.modules.conv.Conv2d'>  0.232417\n",
      "Sparsity in layer 87 <class 'torch.nn.modules.conv.Conv2d'>  0.232417\n",
      "Sparsity in layer 90 <class 'torch.nn.modules.conv.Conv2d'>  0.232417\n",
      "Sparsity in layer 94 <class 'torch.nn.modules.conv.Conv2d'>  0.232416\n",
      "Sparsity in layer 97 <class 'torch.nn.modules.conv.Conv2d'>  0.232416\n",
      "Sparsity in layer 100 <class 'torch.nn.modules.conv.Conv2d'>  0.232414\n",
      "Sparsity in layer 103 <class 'torch.nn.modules.conv.Conv2d'>  0.232416\n",
      "Sparsity in layer 106 <class 'torch.nn.modules.conv.Conv2d'>  0.232416\n",
      "Sparsity in layer 109 <class 'torch.nn.modules.conv.Conv2d'>  0.232416\n",
      "Sparsity in layer 112 <class 'torch.nn.modules.conv.Conv2d'>  0.232416\n"
     ]
    },
    {
     "output_type": "display_data",
     "data": {
      "application/vnd.jupyter.widget-view+json": {
       "version_major": 2,
       "version_minor": 0,
       "model_id": "213eb76a5aad43388e3d3bbf27b534a5"
      },
      "text/plain": [
       "Validating: 0it [00:00, ?it/s]"
      ]
     },
     "metadata": {}
    },
    {
     "output_type": "display_data",
     "data": {
      "application/vnd.jupyter.widget-view+json": {
       "version_major": 2,
       "version_minor": 0,
       "model_id": "73a8bfc2e46e4703837cb1b2348a3f4e"
      },
      "text/plain": [
       "Validating: 0it [00:00, ?it/s]"
      ]
     },
     "metadata": {}
    },
    {
     "output_type": "stream",
     "name": "stdout",
     "text": [
      "0.25353117956423743\n",
      "pruning 25.353117956423745% sparsity\n",
      "Sparsity in layer 1 <class 'torch.nn.modules.conv.Conv2d'>  0.253472\n",
      "Sparsity in layer 7 <class 'torch.nn.modules.conv.Conv2d'>  0.253526\n",
      "Sparsity in layer 10 <class 'torch.nn.modules.conv.Conv2d'>  0.253526\n",
      "Sparsity in layer 13 <class 'torch.nn.modules.conv.Conv2d'>  0.253526\n",
      "Sparsity in layer 16 <class 'torch.nn.modules.conv.Conv2d'>  0.253526\n",
      "Sparsity in layer 19 <class 'torch.nn.modules.conv.Conv2d'>  0.253526\n",
      "Sparsity in layer 22 <class 'torch.nn.modules.conv.Conv2d'>  0.253526\n",
      "Sparsity in layer 26 <class 'torch.nn.modules.conv.Conv2d'>  0.253526\n",
      "Sparsity in layer 29 <class 'torch.nn.modules.conv.Conv2d'>  0.253533\n",
      "Sparsity in layer 32 <class 'torch.nn.modules.conv.Conv2d'>  0.253540\n",
      "Sparsity in layer 35 <class 'torch.nn.modules.conv.Conv2d'>  0.253533\n",
      "Sparsity in layer 38 <class 'torch.nn.modules.conv.Conv2d'>  0.253533\n",
      "Sparsity in layer 41 <class 'torch.nn.modules.conv.Conv2d'>  0.253533\n",
      "Sparsity in layer 44 <class 'torch.nn.modules.conv.Conv2d'>  0.253533\n",
      "Sparsity in layer 47 <class 'torch.nn.modules.conv.Conv2d'>  0.253533\n",
      "Sparsity in layer 50 <class 'torch.nn.modules.conv.Conv2d'>  0.253533\n",
      "Sparsity in layer 54 <class 'torch.nn.modules.conv.Conv2d'>  0.253530\n",
      "Sparsity in layer 57 <class 'torch.nn.modules.conv.Conv2d'>  0.253532\n",
      "Sparsity in layer 60 <class 'torch.nn.modules.conv.Conv2d'>  0.253540\n",
      "Sparsity in layer 63 <class 'torch.nn.modules.conv.Conv2d'>  0.253532\n",
      "Sparsity in layer 66 <class 'torch.nn.modules.conv.Conv2d'>  0.253532\n",
      "Sparsity in layer 69 <class 'torch.nn.modules.conv.Conv2d'>  0.253532\n",
      "Sparsity in layer 72 <class 'torch.nn.modules.conv.Conv2d'>  0.253532\n",
      "Sparsity in layer 75 <class 'torch.nn.modules.conv.Conv2d'>  0.253532\n",
      "Sparsity in layer 78 <class 'torch.nn.modules.conv.Conv2d'>  0.253532\n",
      "Sparsity in layer 81 <class 'torch.nn.modules.conv.Conv2d'>  0.253532\n",
      "Sparsity in layer 84 <class 'torch.nn.modules.conv.Conv2d'>  0.253532\n",
      "Sparsity in layer 87 <class 'torch.nn.modules.conv.Conv2d'>  0.253532\n",
      "Sparsity in layer 90 <class 'torch.nn.modules.conv.Conv2d'>  0.253532\n",
      "Sparsity in layer 94 <class 'torch.nn.modules.conv.Conv2d'>  0.253532\n",
      "Sparsity in layer 97 <class 'torch.nn.modules.conv.Conv2d'>  0.253531\n",
      "Sparsity in layer 100 <class 'torch.nn.modules.conv.Conv2d'>  0.253532\n",
      "Sparsity in layer 103 <class 'torch.nn.modules.conv.Conv2d'>  0.253531\n",
      "Sparsity in layer 106 <class 'torch.nn.modules.conv.Conv2d'>  0.253531\n",
      "Sparsity in layer 109 <class 'torch.nn.modules.conv.Conv2d'>  0.253531\n",
      "Sparsity in layer 112 <class 'torch.nn.modules.conv.Conv2d'>  0.253531\n"
     ]
    },
    {
     "output_type": "display_data",
     "data": {
      "application/vnd.jupyter.widget-view+json": {
       "version_major": 2,
       "version_minor": 0,
       "model_id": "8f3a18aea8394599af8f36a975de4aea"
      },
      "text/plain": [
       "Validating: 0it [00:00, ?it/s]"
      ]
     },
     "metadata": {}
    },
    {
     "output_type": "display_data",
     "data": {
      "application/vnd.jupyter.widget-view+json": {
       "version_major": 2,
       "version_minor": 0,
       "model_id": "388f69ff090145969526d91943bdcd81"
      },
      "text/plain": [
       "Validating: 0it [00:00, ?it/s]"
      ]
     },
     "metadata": {}
    },
    {
     "output_type": "stream",
     "name": "stdout",
     "text": [
      "0.27350500093914354\n",
      "pruning 27.350500093914356% sparsity\n",
      "Sparsity in layer 1 <class 'torch.nn.modules.conv.Conv2d'>  0.273727\n",
      "Sparsity in layer 7 <class 'torch.nn.modules.conv.Conv2d'>  0.273492\n",
      "Sparsity in layer 10 <class 'torch.nn.modules.conv.Conv2d'>  0.273492\n",
      "Sparsity in layer 13 <class 'torch.nn.modules.conv.Conv2d'>  0.273492\n",
      "Sparsity in layer 16 <class 'torch.nn.modules.conv.Conv2d'>  0.273492\n",
      "Sparsity in layer 19 <class 'torch.nn.modules.conv.Conv2d'>  0.273492\n",
      "Sparsity in layer 22 <class 'torch.nn.modules.conv.Conv2d'>  0.273492\n",
      "Sparsity in layer 26 <class 'torch.nn.modules.conv.Conv2d'>  0.273505\n",
      "Sparsity in layer 29 <class 'torch.nn.modules.conv.Conv2d'>  0.273505\n",
      "Sparsity in layer 32 <class 'torch.nn.modules.conv.Conv2d'>  0.273560\n",
      "Sparsity in layer 35 <class 'torch.nn.modules.conv.Conv2d'>  0.273505\n",
      "Sparsity in layer 38 <class 'torch.nn.modules.conv.Conv2d'>  0.273505\n",
      "Sparsity in layer 41 <class 'torch.nn.modules.conv.Conv2d'>  0.273505\n",
      "Sparsity in layer 44 <class 'torch.nn.modules.conv.Conv2d'>  0.273505\n",
      "Sparsity in layer 47 <class 'torch.nn.modules.conv.Conv2d'>  0.273505\n",
      "Sparsity in layer 50 <class 'torch.nn.modules.conv.Conv2d'>  0.273505\n",
      "Sparsity in layer 54 <class 'torch.nn.modules.conv.Conv2d'>  0.273505\n",
      "Sparsity in layer 57 <class 'torch.nn.modules.conv.Conv2d'>  0.273505\n",
      "Sparsity in layer 60 <class 'torch.nn.modules.conv.Conv2d'>  0.273499\n",
      "Sparsity in layer 63 <class 'torch.nn.modules.conv.Conv2d'>  0.273505\n",
      "Sparsity in layer 66 <class 'torch.nn.modules.conv.Conv2d'>  0.273505\n",
      "Sparsity in layer 69 <class 'torch.nn.modules.conv.Conv2d'>  0.273505\n",
      "Sparsity in layer 72 <class 'torch.nn.modules.conv.Conv2d'>  0.273505\n",
      "Sparsity in layer 75 <class 'torch.nn.modules.conv.Conv2d'>  0.273505\n",
      "Sparsity in layer 78 <class 'torch.nn.modules.conv.Conv2d'>  0.273505\n",
      "Sparsity in layer 81 <class 'torch.nn.modules.conv.Conv2d'>  0.273505\n",
      "Sparsity in layer 84 <class 'torch.nn.modules.conv.Conv2d'>  0.273505\n",
      "Sparsity in layer 87 <class 'torch.nn.modules.conv.Conv2d'>  0.273505\n",
      "Sparsity in layer 90 <class 'torch.nn.modules.conv.Conv2d'>  0.273505\n",
      "Sparsity in layer 94 <class 'torch.nn.modules.conv.Conv2d'>  0.273505\n",
      "Sparsity in layer 97 <class 'torch.nn.modules.conv.Conv2d'>  0.273505\n",
      "Sparsity in layer 100 <class 'torch.nn.modules.conv.Conv2d'>  0.273506\n",
      "Sparsity in layer 103 <class 'torch.nn.modules.conv.Conv2d'>  0.273505\n",
      "Sparsity in layer 106 <class 'torch.nn.modules.conv.Conv2d'>  0.273505\n",
      "Sparsity in layer 109 <class 'torch.nn.modules.conv.Conv2d'>  0.273505\n",
      "Sparsity in layer 112 <class 'torch.nn.modules.conv.Conv2d'>  0.273505\n"
     ]
    },
    {
     "output_type": "display_data",
     "data": {
      "application/vnd.jupyter.widget-view+json": {
       "version_major": 2,
       "version_minor": 0,
       "model_id": "83450a50d5354289b4c2bfc986af4505"
      },
      "text/plain": [
       "Validating: 0it [00:00, ?it/s]"
      ]
     },
     "metadata": {}
    },
    {
     "output_type": "stream",
     "name": "stderr",
     "text": [
      "/home/nathaniel/anaconda3/envs/kd-experiments-pl/lib/python3.9/site-packages/pytorch_lightning/core/datamodule.py:423: LightningDeprecationWarning: DataModule.teardown has already been called, so it will not be called again. In v1.6 this behavior will change to always call DataModule.teardown.\n",
      "  rank_zero_deprecation(\n"
     ]
    }
   ],
   "metadata": {}
  }
 ],
 "metadata": {
  "orig_nbformat": 4,
  "language_info": {
   "name": "python",
   "version": "3.9.7",
   "mimetype": "text/x-python",
   "codemirror_mode": {
    "name": "ipython",
    "version": 3
   },
   "pygments_lexer": "ipython3",
   "nbconvert_exporter": "python",
   "file_extension": ".py"
  },
  "kernelspec": {
   "name": "python3",
   "display_name": "Python 3.9.7 64-bit ('kd-experiments-pl': conda)"
  },
  "interpreter": {
   "hash": "f49cccf7948c7891734d7951c7101b50515718aed4b4bf7f2989b2296ea9cee9"
  }
 },
 "nbformat": 4,
 "nbformat_minor": 2
}